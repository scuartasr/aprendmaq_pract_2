{
  "nbformat": 4,
  "nbformat_minor": 0,
  "metadata": {
    "colab": {
      "provenance": []
    },
    "kernelspec": {
      "name": "python3",
      "display_name": "Python 3"
    },
    "language_info": {
      "name": "python"
    }
  },
  "cells": [
    {
      "cell_type": "markdown",
      "source": [
        "\n",
        "# **PRACTICA2: Análisis de dimensionalidad: PCA, Kernel PCA e ISOMAP**\n",
        "\n",
        "*Elaborado por:\n",
        "\n",
        "Luis Fernando Becerra, BEDA Aprendizaje de Máquinas 2024-1S - 2025-1S\n",
        "\n",
        "Andres Esteban Marin Manco, BEDA Aprendizaje de Máquinas 2025-1S*"
      ],
      "metadata": {
        "id": "lZzEghkxMYet"
      }
    },
    {
      "cell_type": "markdown",
      "source": [
        "<p align=\"center\">\n",
        "  <img src=\"https://miro.medium.com/v2/resize:fit:1400/1*a3YxMfs2E0eXag1ttLHmSQ.png\" width=\"400\"/>\n",
        "</p>\n",
        "\n",
        "El análisis de dimensionalidad es una técnica esencial en ciencia de datos y aprendizaje automático.  \n",
        "Permite **reducir el número de variables** (o características) en un conjunto de datos, manteniendo la mayor cantidad de información posible.\n",
        "\n",
        "### ¿Por qué es útil?\n",
        "\n",
        "- Elimina ruido o redundancias.\n",
        "- Mejora la eficiencia y el rendimiento de modelos.\n",
        "- Facilita la visualización de datos complejos en 2D o 3D.\n",
        "- Reduce el sobreajuste en modelos de machine learning.\n",
        "\n",
        "\n",
        "\n",
        "### Técnicas que exploraremos\n",
        "\n",
        "1. **PCA** – Análisis de Componentes Principales: técnica lineal que busca las direcciones de mayor varianza.\n",
        "2. **Kernel PCA** – Extensión no lineal de PCA que usa funciones kernel para capturar relaciones más complejas.\n",
        "3. **ISOMAP** – algoritmo de reducción de dimensionalidad no lineal que busca preservar la estructura geométrica intrínseca de los datos de alta dimensión en un espacio de menor dimensión.."
      ],
      "metadata": {
        "id": "dT5f_kMZyLiL"
      }
    },
    {
      "cell_type": "markdown",
      "source": [
        "##Importar librerias\n",
        "\n",
        "Primero, importamos las librerías fundamentales:\n",
        "\n",
        "- `numpy` y `pandas`: para manejar datos numéricos y estructuras tipo DataFrame.\n",
        "- `matplotlib.pyplot` y `seaborn`: para crear visualizaciones.\n",
        "- Posteriormente se usarán herramientas de `sklearn` para aplicar PCA, Kernel PCA e ISOMAP"
      ],
      "metadata": {
        "id": "JD4eamC37fUi"
      }
    },
    {
      "cell_type": "code",
      "execution_count": null,
      "metadata": {
        "id": "9Fh7cPEZ63Gm"
      },
      "outputs": [],
      "source": [
        "#importar librerias\n",
        "import numpy as np\n",
        "import pandas as pd\n",
        "import matplotlib.pyplot as plt\n",
        "import seaborn as sns\n",
        "from sklearn.model_selection import train_test_split"
      ]
    },
    {
      "cell_type": "markdown",
      "source": [
        "#   1. Análisis de componentes principales (PCA):\n",
        "\n",
        "El **Análisis de Componentes Principales (PCA)** es una técnica de reducción de dimensionalidad que busca **minimizar el número de variables** (o columnas) sin perder gran parte de la información original.\n",
        "\n",
        "Es especialmente útil cuando se trabaja con datasets de **alta dimensión**, como aquellos con **cientos o miles de variables**, ya que permite:\n",
        "- Simplificar los datos.\n",
        "- Mejorar el rendimiento de los modelos.\n",
        "- Reducir el riesgo de sobreajuste.\n",
        "\n",
        "<br>\n",
        "\n",
        "###<b>¿Cómo funciona?</b></font>\n",
        "\n",
        "\n",
        "Mientras que la regresión determina una línea de mejor ajuste a un conjunto de datos, el análisis factorial o el análisis de componentes principales determina varias líneas ortogonales de mejor ajuste al conjunto de datos. Las líneas son perpendiculares entre sí en un espacio de n dimensiones, en el que n dimensiones es el espacio muestral de las variables. Hay tantas dimensiones como variables, es decir, un conjunto de datos con 4 variables, el espacio muestral es de 4 dimensiones.\n",
        "\n",
        "- Si tu conjunto de datos tiene `n` variables, el PCA trabaja en un espacio de `n` dimensiones.\n",
        "- Estas nuevas direcciones se llaman **componentes principales**.\n",
        "- Cada componente representa una combinación lineal de las variables originales.\n",
        "\n",
        "<br>\n",
        "\n",
        "### <b>¿Qué logra el PCA?</b></font>\n",
        "\n",
        "- **Transforma** los datos a un nuevo espacio de menor dimensión.\n",
        "- Intenta conservar los componentes que **explican la mayor varianza** posible.\n",
        "- **Descarta** los componentes que aportan poca o ninguna variabilidad, reduciendo así el ruido y la complejidad."
      ],
      "metadata": {
        "id": "c-IFn_fy9uYa"
      }
    },
    {
      "cell_type": "markdown",
      "source": [
        "#Carga de datos\n",
        "Para esta practica utilizaremos la base de datos Wine de la Universidad UC Irvine. Vamos a emplear a reducción de dimensiones tanto para visualizar los datos como para mejor la discriminación de tres tipos de variedades de vinos.\n",
        "\n",
        "Las caracteristicas incluyen diferentes componentes quimicos medidos en laboratorio.\n",
        "\n",
        "1. Alcohol\n",
        "2. Ácido málico\n",
        "3. Ceniza\n",
        "4. Alcalinidad de la ceniza\n",
        "5. Magnesio\n",
        "6. Fenoles totales\n",
        "7. Flavanoides\n",
        "8. Fenoles no flavonoides\n",
        "9. Proantocianinas\n",
        "10. Intensidad de color\n",
        "11. Tono\n",
        "12. DO280/OD315 de vinos diluidos\n",
        "13. Prolina\n"
      ],
      "metadata": {
        "id": "uzjrxYhu95wi"
      }
    },
    {
      "cell_type": "code",
      "source": [
        "#Leer datos\n",
        "df = pd.read_csv(\"Wine.csv\")"
      ],
      "metadata": {
        "id": "Kydrhh6G-CZK"
      },
      "execution_count": null,
      "outputs": []
    },
    {
      "cell_type": "markdown",
      "source": [
        "Exploremos los datos!!"
      ],
      "metadata": {
        "id": "RKPMG9_f-F-t"
      }
    },
    {
      "cell_type": "code",
      "source": [
        "#Revisar los 5 primeros elementos\n",
        "df.head()"
      ],
      "metadata": {
        "id": "yFkAbGsr-Rpl"
      },
      "execution_count": null,
      "outputs": []
    },
    {
      "cell_type": "code",
      "source": [
        "#Nombre de las caracteristicas\n",
        "df.columns"
      ],
      "metadata": {
        "id": "0BfqvXhz-qKm"
      },
      "execution_count": null,
      "outputs": []
    },
    {
      "cell_type": "markdown",
      "source": [
        "En este conjunto de datos hay 14 dimensiones o variables, por lo que es difícil visualizarlas todas. Podemos utilizar PCA para aprender los dos componentes más importantes de los datos y visualizarlos en este nuevo espacio bidimensional.\n",
        "\n",
        "Tenemos que aplicar el PCA antes de aplicar el algoritmo de aprendizaje automático."
      ],
      "metadata": {
        "id": "h4IYRUuO-951"
      }
    },
    {
      "cell_type": "markdown",
      "source": [
        "Deberíamos aplicarlo a las características, no al valor objetivo \"Customer Segment\" en este conjunto de datos. Por tanto, vamos a crear un dataframe con todas las columnas excepto la ultima (correspondiente al tipo de vino)\n"
      ],
      "metadata": {
        "id": "D7SeKbPh_cJK"
      }
    },
    {
      "cell_type": "code",
      "source": [
        "#Organizar dataframe\n"
      ],
      "metadata": {
        "id": "Z9Dfy-FK_e6e"
      },
      "execution_count": null,
      "outputs": []
    },
    {
      "cell_type": "markdown",
      "source": [
        "Ahora vamos a dividir los datos en los dos conjuntos: entrenamiento y prueba. Empleando 70% de los datos para entrenar. Esto con el fin de probar que ocurre con la discriminación de las clases cuando aplicamos PCA."
      ],
      "metadata": {
        "id": "FVA6a8qJ-pkE"
      }
    },
    {
      "cell_type": "code",
      "source": [
        "#Dividir datos\n"
      ],
      "metadata": {
        "id": "K7spmifWAMOf"
      },
      "execution_count": null,
      "outputs": []
    },
    {
      "cell_type": "markdown",
      "source": [
        "Antes de usar PCA en los datos, necesitamos necesitamos estandarizar las diferentes caracteristicas, para esto utilizaremos StandardScaler de sklearn. El cual transforma los datos a muestras con media cero y desviación estandar igual a 1. Esta normalizacion es la más recomendada cuando se va aplicar PCA."
      ],
      "metadata": {
        "id": "OH2Bx0olAbR6"
      }
    },
    {
      "cell_type": "code",
      "source": [
        "#Importar StandardScaler\n",
        "\n",
        "#Aplicar la transformación a los datos de entrenamiento\n",
        "\n",
        "#Usar la transformación a los datos de evaluación\n"
      ],
      "metadata": {
        "id": "QHzgiUIsAf79"
      },
      "execution_count": null,
      "outputs": []
    },
    {
      "cell_type": "markdown",
      "source": [
        "Nota importante: cuando entrenamos un clasificador o regresor con datos reducidos, es muy importante que al aplicarlo a otros datos estos se encuentren normalizados!!!"
      ],
      "metadata": {
        "id": "RXwx-QAW2KM7"
      }
    },
    {
      "cell_type": "code",
      "source": [
        "X_train.shape"
      ],
      "metadata": {
        "id": "SwJ2IFCciUnt"
      },
      "execution_count": null,
      "outputs": []
    },
    {
      "cell_type": "code",
      "source": [
        "#Grafiquemos dos dimensiones de los datos!!\n",
        "plt.figure(figsize=(6,6))\n",
        "plt.scatter(X_train[y_train==1,0],X_train[y_train==1,1],c='r')\n",
        "plt.scatter(X_train[y_train==2,0],X_train[y_train==2,1],c='b')\n",
        "plt.scatter(X_train[y_train==3,0],X_train[y_train==3,1],c='g')\n",
        "plt.xlabel(\"Alcohol\")\n",
        "plt.ylabel(\"Malic_Acid\")"
      ],
      "metadata": {
        "id": "OQOnOFzw4EjT"
      },
      "execution_count": null,
      "outputs": []
    },
    {
      "cell_type": "markdown",
      "source": [
        "##Aplicar PCA\n",
        "PCA es una tecnica muy comun que vamos a encontrar implementada en diferentes paquetes estadisticos. Vamos a usar la implementación disponible en sklearn."
      ],
      "metadata": {
        "id": "di4zvPmPAqld"
      }
    },
    {
      "cell_type": "code",
      "source": [
        "#Importar PCA\n",
        "\n",
        "#Inicializar PCA: vamos a comenzar probando con 2 componentes principales para la proyección\n",
        "\n",
        "#Calcular PCA y realizar la transformación de datos de entrenamiento\n",
        "\n",
        "#Aplicar a los datos de prueba\n"
      ],
      "metadata": {
        "id": "qIWj9HjwAzJK"
      },
      "execution_count": null,
      "outputs": []
    },
    {
      "cell_type": "markdown",
      "source": [
        "Revisemos la dimension de los datos reducidos"
      ],
      "metadata": {
        "id": "J1rnxbpW2Mxx"
      }
    },
    {
      "cell_type": "code",
      "source": [
        "# Hemos  reducido las  caracteristicas en 2\n",
        "print(X_train_2d.shape)\n",
        "print(X_test_2d.shape)"
      ],
      "metadata": {
        "id": "nZfURJ4rA3LS"
      },
      "execution_count": null,
      "outputs": []
    },
    {
      "cell_type": "markdown",
      "source": [
        "Vamos a graficar los datos de entrenamiento proyectados en la primera y segunda componente princial."
      ],
      "metadata": {
        "id": "ttOJC0_sBMJU"
      }
    },
    {
      "cell_type": "code",
      "source": [
        "#Grafica de dos dimensiones\n",
        "plt.figure(figsize=(6,6))\n",
        "plt.scatter(X_train_2d[y_train==1,0],X_train_2d[y_train==1,1],c='r')\n",
        "plt.scatter(X_train_2d[y_train==2,0],X_train_2d[y_train==2,1],c='b')\n",
        "plt.scatter(X_train_2d[y_train==3,0],X_train_2d[y_train==3,1],c='g')\n",
        "plt.xlabel(\"The First Principal Component\")\n",
        "plt.ylabel(\"The Second Principal Component\")\n"
      ],
      "metadata": {
        "id": "Uz9I10YkBJVL"
      },
      "execution_count": null,
      "outputs": []
    },
    {
      "cell_type": "code",
      "source": [
        "#Las PCA son vectores a los cuales se proyecta los datos\n"
      ],
      "metadata": {
        "id": "BAfXrCEiBcia"
      },
      "execution_count": null,
      "outputs": []
    },
    {
      "cell_type": "markdown",
      "source": [
        "Importante: el proceso de transformación PCA no tiene en cuenta las etiquetas de los datos!!"
      ],
      "metadata": {
        "id": "TtzRireR48TS"
      }
    },
    {
      "cell_type": "markdown",
      "source": [
        "## <b>Interpretar los componentes principales</b></font>\n",
        "\n",
        "Después de aplicar PCA, podemos acceder a los **componentes** con `pca.components_`.\n",
        "\n",
        "Este arreglo nos muestra cómo cada **componente principal** está compuesto por una combinación lineal de las **características originales**.\n",
        "\n",
        "- Cada **fila** representa un componente principal.\n",
        "- Cada **columna** representa una característica del conjunto de datos original.\n",
        "\n",
        "Para visualizar esta relación de forma más clara, convertimos estos datos en un `DataFrame`:\n"
      ],
      "metadata": {
        "id": "KlgijKOAhi42"
      }
    },
    {
      "cell_type": "code",
      "source": [
        "#Convertimos los datos a una dataframe\n",
        "df_comp=pd.DataFrame(pca.components_)\n",
        "df_comp"
      ],
      "metadata": {
        "id": "dSESt2OEhnv0"
      },
      "execution_count": null,
      "outputs": []
    },
    {
      "cell_type": "code",
      "source": [
        "#Visualizamos los datos\n",
        "plt.figure(figsize=(15,3))\n",
        "sns.heatmap(df_comp,cmap=\"magma\")\n",
        "plt.show()"
      ],
      "metadata": {
        "id": "2arjXEYuhr7M"
      },
      "execution_count": null,
      "outputs": []
    },
    {
      "cell_type": "markdown",
      "source": [
        "## <b>Mapa de calor de los componentes</b></font>\n",
        "\n",
        "En este mapa de calor podemos ver la relación entre los componentes principales y las características reales.\n",
        "\n",
        "- Los colores claros indican una **fuerte correlación positiva**.\n",
        "- Los colores oscuros muestran una **correlación negativa o más débil**.\n",
        "\n",
        "Los componentes principales son combinaciones lineales de todas las características del conjunto de datos.\n",
        "\n",
        "Los componentes principales son **combinaciones lineales** de las variables originales. Gracias a esta transformación, podemos reemplazar un conjunto de variables complejas por **unos pocos componentes claros y separados**."
      ],
      "metadata": {
        "id": "DCYIjLU0hxpI"
      }
    },
    {
      "cell_type": "markdown",
      "source": [
        "#Uso de datos para ML\n",
        "Tras aplicar el PCA, podemos usar los datos proyectados para entrenar un modelo ML, en este caso vamos a usar una regresión logistica."
      ],
      "metadata": {
        "id": "RBCAehWOE6R_"
      }
    },
    {
      "cell_type": "code",
      "source": [
        "#Importarmos el modelo\n",
        "from sklearn.linear_model import LogisticRegression\n",
        "#Entrenamos un modelo con los datos originales (para comparar)\n"
      ],
      "metadata": {
        "id": "-fTFzW88E-PI"
      },
      "execution_count": null,
      "outputs": []
    },
    {
      "cell_type": "code",
      "source": [
        "#Entrenamos un modelo con los datos reducidor con PCA\n"
      ],
      "metadata": {
        "id": "59EwwijR5WpO"
      },
      "execution_count": null,
      "outputs": []
    },
    {
      "cell_type": "code",
      "source": [
        "from sklearn.metrics import confusion_matrix, ConfusionMatrixDisplay\n",
        "from sklearn.metrics import classification_report\n",
        "from sklearn.metrics import cohen_kappa_score\n",
        "#Evaluar el desempeño - Modelo datos completo\n",
        "#Matriz de confusión\n",
        "cm = confusion_matrix(y_test, predictions)\n",
        "disp=ConfusionMatrixDisplay(confusion_matrix=cm)\n",
        "disp.plot()\n",
        "# Métricas de desempeño\n",
        "print(classification_report(y_test,predictions))\n",
        "print(\"kappa: \" + str(cohen_kappa_score(y_test,predictions)))"
      ],
      "metadata": {
        "id": "xU1olKo5FCkj"
      },
      "execution_count": null,
      "outputs": []
    },
    {
      "cell_type": "code",
      "source": [
        "#Evaluar el desempeño - Modelo con PCA\n",
        "#Matriz de confusión\n",
        "cm_pca = confusion_matrix(y_test, predictions_pca)\n",
        "disp=ConfusionMatrixDisplay(confusion_matrix=cm_pca)\n",
        "disp.plot()\n",
        "# Métricas de desempeño\n",
        "print(classification_report(y_test,predictions_pca))\n",
        "print(\"kappa: \" + str(cohen_kappa_score(y_test,predictions_pca)))\n"
      ],
      "metadata": {
        "id": "YVB-_yYm6BUt"
      },
      "execution_count": null,
      "outputs": []
    },
    {
      "cell_type": "code",
      "source": [
        "#Grafica de las fronteras de desicion\n",
        "from matplotlib.colors import ListedColormap\n",
        "X_set, y_set = X_train_2d, y_train\n",
        "X1, X2 = np.meshgrid(np.arange(start = X_set[:, 0].min() - 1, stop = X_set[:, 0].max() + 1, step = 0.01),\n",
        "                     np.arange(start = X_set[:, 1].min() - 1, stop = X_set[:, 1].max() + 1, step = 0.01))\n",
        "plt.contourf(X1, X2, model_pca.predict(np.array([X1.ravel(), X2.ravel()]).T).reshape(X1.shape),\n",
        "             alpha = 0.75, cmap = ListedColormap(('red', 'green', 'blue')))\n",
        "plt.xlim(X1.min(), X1.max())\n",
        "plt.ylim(X2.min(), X2.max())\n",
        "for i, j in enumerate(np.unique(y_set)):\n",
        "    plt.scatter(X_set[y_set == j, 0], X_set[y_set == j, 1],\n",
        "                c = ListedColormap(('red', 'green', 'blue'))(i), label = j)\n",
        "plt.title('Logistic Regression (Training set)')\n",
        "plt.xlabel('PC1')\n",
        "plt.ylabel('PC2')\n",
        "plt.legend()\n",
        "plt.show()"
      ],
      "metadata": {
        "id": "Es3-5OywFRZi"
      },
      "execution_count": null,
      "outputs": []
    },
    {
      "cell_type": "markdown",
      "source": [
        "Este es el rendimiento del algoritmo con el conjunto de entrenamiento"
      ],
      "metadata": {
        "id": "3X-t6eAmFZ6Q"
      }
    },
    {
      "cell_type": "code",
      "source": [
        "from matplotlib.colors import ListedColormap\n",
        "X_set, y_set = X_test_2d, y_test\n",
        "X1, X2 = np.meshgrid(np.arange(start = X_set[:, 0].min() - 1, stop = X_set[:, 0].max() + 1, step = 0.01),\n",
        "                     np.arange(start = X_set[:, 1].min() - 1, stop = X_set[:, 1].max() + 1, step = 0.01))\n",
        "plt.contourf(X1, X2, model_pca.predict(np.array([X1.ravel(), X2.ravel()]).T).reshape(X1.shape),\n",
        "             alpha = 0.75, cmap = ListedColormap(('red', 'green', 'blue')))\n",
        "plt.xlim(X1.min(), X1.max())\n",
        "plt.ylim(X2.min(), X2.max())\n",
        "for i, j in enumerate(np.unique(y_set)):\n",
        "    plt.scatter(X_set[y_set == j, 0], X_set[y_set == j, 1],\n",
        "                c = ListedColormap(('red', 'green', 'blue'))(i), label = j)\n",
        "plt.title('Logistic Regression (Test set)')\n",
        "plt.xlabel('PC1')\n",
        "plt.ylabel('PC2')\n",
        "plt.legend()\n",
        "plt.show()"
      ],
      "metadata": {
        "id": "fizWRrTXFiDK"
      },
      "execution_count": null,
      "outputs": []
    },
    {
      "cell_type": "markdown",
      "source": [
        "## <b>Rendimiento en el conjunto de prueba - Frontera de decisión</b></font>\n",
        "\n",
        "Esta visualización muestra el rendimiento del modelo de **regresión logística** sobre el **conjunto de prueba**.\n",
        "\n",
        "La distribución de los puntos dentro de sus respectivas regiones muestra que el modelo también **generaliza bien fuera del conjunto de entrenamiento**.\n",
        "\n",
        "Es evidente que podemos obtener **predicciones bastante buenas utilizando solo los dos primeros componentes principales**, en lugar de trabajar con todas las variables originales.\n",
        "\n",
        "Esto demuestra que:\n",
        "\n",
        "- **PCA** puede reducir la complejidad del modelo sin afectar negativamente el rendimiento.\n",
        "- Es especialmente útil cuando trabajamos con **grandes volúmenes de datos con muchas características**.\n",
        "- Ayuda a **visualizar y entender mejor** la estructura subyacente de los datos.\n",
        "\n",
        "Método PCA no solo mejora la eficiencia, sino que también puede potenciar la interpretación y el rendimiento de los modelos."
      ],
      "metadata": {
        "id": "sSnWoIRZFkcB"
      }
    },
    {
      "cell_type": "markdown",
      "source": [
        "#  2. Kernel PCA\n",
        "Es otra tecnica de reducción de dimensiones no supervisada, que permite trabajar con no linealidades de los datos usando el truco kernel."
      ],
      "metadata": {
        "id": "vul_YQJDJzT-"
      }
    },
    {
      "cell_type": "markdown",
      "source": [
        "#  ![kpca.jpg](data:image/jpeg;base64,/9j/4AAQSkZJRgABAQEAYABgAAD/4QBaRXhpZgAATU0AKgAAAAgABQMBAAUAAAABAAAASgMDAAEAAAABAAAAAFEQAAEAAAABAQAAAFERAAQAAAABAAAOw1ESAAQAAAABAAAOwwAAAAAAAYagAACxj//bAEMAAgEBAgEBAgICAgICAgIDBQMDAwMDBgQEAwUHBgcHBwYHBwgJCwkICAoIBwcKDQoKCwwMDAwHCQ4PDQwOCwwMDP/bAEMBAgICAwMDBgMDBgwIBwgMDAwMDAwMDAwMDAwMDAwMDAwMDAwMDAwMDAwMDAwMDAwMDAwMDAwMDAwMDAwMDAwMDP/AABEIAWsCwwMBIgACEQEDEQH/xAAfAAABBQEBAQEBAQAAAAAAAAAAAQIDBAUGBwgJCgv/xAC1EAACAQMDAgQDBQUEBAAAAX0BAgMABBEFEiExQQYTUWEHInEUMoGRoQgjQrHBFVLR8CQzYnKCCQoWFxgZGiUmJygpKjQ1Njc4OTpDREVGR0hJSlNUVVZXWFlaY2RlZmdoaWpzdHV2d3h5eoOEhYaHiImKkpOUlZaXmJmaoqOkpaanqKmqsrO0tba3uLm6wsPExcbHyMnK0tPU1dbX2Nna4eLj5OXm5+jp6vHy8/T19vf4+fr/xAAfAQADAQEBAQEBAQEBAAAAAAAAAQIDBAUGBwgJCgv/xAC1EQACAQIEBAMEBwUEBAABAncAAQIDEQQFITEGEkFRB2FxEyIygQgUQpGhscEJIzNS8BVictEKFiQ04SXxFxgZGiYnKCkqNTY3ODk6Q0RFRkdISUpTVFVWV1hZWmNkZWZnaGlqc3R1dnd4eXqCg4SFhoeIiYqSk5SVlpeYmZqio6Slpqeoqaqys7S1tre4ubrCw8TFxsfIycrS09TV1tfY2dri4+Tl5ufo6ery8/T19vf4+fr/2gAMAwEAAhEDEQA/AP5/6KKKACiiigAor+gH/gj3/wAGxH7Ov7dv/BN74YfFjxtqvxNg8UeMLS7nvo9K1i2t7RTFfXMCbEe2dh8kSZyxycngHA+lv+INH9kv/oN/Gb/woLP/AOQ6AP5aKK/qX/4g0f2S/wDoN/Gb/wAKCz/+Q6P+INH9kv8A6Dfxm/8ACgs//kOgD+Wiiv6l/wDiDR/ZL/6Dfxm/8KCz/wDkOj/iDR/ZL/6Dfxm/8KCz/wDkOgD+Wiiv6l/+INH9kv8A6Dfxm/8ACgs//kOj/iDR/ZL/AOg38Zv/AAoLP/5DoA/loor+pf8A4g0f2S/+g38Zv/Cgs/8A5Do/4g0f2S/+g38Zv/Cgs/8A5DoA/loor+pf/iDR/ZL/AOg38Zv/AAoLP/5Do/4g0f2S/wDoN/Gb/wAKCz/+Q6AP5aKK/qX/AOINH9kv/oN/Gb/woLP/AOQ6P+INH9kv/oN/Gb/woLP/AOQ6AP5aKK/qX/4g0f2S/wDoN/Gb/wAKCz/+Q6P+INH9kv8A6Dfxm/8ACgs//kOgD+Wiiv6l/wDiDR/ZL/6Dfxm/8KCz/wDkOj/iDR/ZL/6Dfxm/8KCz/wDkOgD+Wiiv6l/+INH9kv8A6Dfxm/8ACgs//kOj/iDR/ZL/AOg38Zv/AAoLP/5DoA/loor+pf8A4g0f2S/+g38Zv/Cgs/8A5Do/4g0f2S/+g38Zv/Cgs/8A5DoA/loor+pf/iDR/ZL/AOg38Zv/AAoLP/5Do/4g0f2S/wDoN/Gb/wAKCz/+Q6AP5aKK/qX/AOINH9kv/oN/Gb/woLP/AOQ6P+INH9kv/oN/Gb/woLP/AOQ6AP5aKK/qX/4g0f2S/wDoN/Gb/wAKCz/+Q6P+INH9kv8A6Dfxm/8ACgs//kOgD+Wiiv6l/wDiDR/ZL/6Dfxm/8KCz/wDkOj/iDR/ZL/6Dfxm/8KCz/wDkOgD+Wiiv6l/+INH9kv8A6Dfxm/8ACgs//kOj/iDR/ZL/AOg38Zv/AAoLP/5DoA/loor+pf8A4g0f2S/+g38Zv/Cgs/8A5Do/4g0f2S/+g38Zv/Cgs/8A5DoA/loor+pf/iDR/ZL/AOg38Zv/AAoLP/5Do/4g0f2S/wDoN/Gb/wAKCz/+Q6AP5aKK/qX/AOINH9kv/oN/Gb/woLP/AOQ6P+INH9kv/oN/Gb/woLP/AOQ6AP5aKK/qX/4g0f2S/wDoN/Gb/wAKCz/+Q6P+INH9kv8A6Dfxm/8ACgs//kOgD+Wiiv6l/wDiDR/ZL/6Dfxm/8KCz/wDkOj/iDR/ZL/6Dfxm/8KCz/wDkOgD+Wiiv6l/+INH9kv8A6Dfxm/8ACgs//kOj/iDR/ZL/AOg38Zv/AAoLP/5DoA/loor+pf8A4g0f2S/+g38Zv/Cgs/8A5Do/4g0f2S/+g38Zv/Cgs/8A5DoA/loor+pf/iDR/ZL/AOg38Zv/AAoLP/5Do/4g0f2S/wDoN/Gb/wAKCz/+Q6AP5aKK/qX/AOINH9kv/oN/Gb/woLP/AOQ6P+INH9kv/oN/Gb/woLP/AOQ6AP5aKK/qX/4g0f2S/wDoN/Gb/wAKCz/+Q6P+INH9kv8A6Dfxm/8ACgs//kOgD+Wiiv6l/wDiDR/ZL/6Dfxm/8KCz/wDkOj/iDR/ZL/6Dfxm/8KCz/wDkOgD+Wiiv6l/+INH9kv8A6Dfxm/8ACgs//kOj/iDR/ZL/AOg38Zv/AAoLP/5DoA/loor+pf8A4g0f2S/+g38Zv/Cgs/8A5Do/4g0f2S/+g38Zv/Cgs/8A5DoA/loor+pf/iDR/ZL/AOg38Zv/AAoLP/5Do/4g0f2S/wDoN/Gb/wAKCz/+Q6AP5aKK/qX/AOINH9kv/oN/Gb/woLP/AOQ6P+INH9kv/oN/Gb/woLP/AOQ6AP5aKK/qX/4g0f2S/wDoN/Gb/wAKCz/+Q6P+INH9kv8A6Dfxm/8ACgs//kOgD+Wiiv6l/wDiDR/ZL/6Dfxm/8KCz/wDkOj/iDR/ZL/6Dfxm/8KCz/wDkOgD+Wiiv6l/+INH9kv8A6Dfxm/8ACgs//kOj/iDR/ZL/AOg38Zv/AAoLP/5DoA/loor+pf8A4g0f2S/+g38Zv/Cgs/8A5Do/4g0f2S/+g38Zv/Cgs/8A5DoA/loor+pf/iDR/ZL/AOg38Zv/AAoLP/5Do/4g0f2S/wDoN/Gb/wAKCz/+Q6AP5aKK/qX/AOINH9kv/oN/Gb/woLP/AOQ6P+INH9kv/oN/Gb/woLP/AOQ6AP5aKK/qX/4g0f2S/wDoN/Gb/wAKCz/+Q6P+INH9kv8A6Dfxm/8ACgs//kOgD+Wiiv6l/wDiDR/ZL/6Dfxm/8KCz/wDkOj/iDR/ZL/6Dfxm/8KCz/wDkOgD+Wiiv6l/+INH9kv8A6Dfxm/8ACgs//kOj/iDR/ZL/AOg38Zv/AAoLP/5DoA/loor+pf8A4g0f2S/+g38Zv/Cgs/8A5Do/4g0f2S/+g38Zv/Cgs/8A5DoA/loor+pf/iDR/ZL/AOg38Zv/AAoLP/5Dryz9ub/g03/Zh/Zy/Ym+MPxC0DV/izJrvgPwRrXiLTUvNctZLd7m0sJ7iISKLRSyb413AMCRnkdaAP5u6KKKACiiigAooooA/sW/4Nrf+UIfwF/7B2o/+nW9r7WlncSt8zdT3r4p/wCDa3/lCH8Bf+wdqP8A6db2vtSb/Wt9TXi51OUYR5XbU2o7i/aH/vt+dH2h/wC+350yivnvb1P5n9502Q/7Q/8Afb86PtD/AN9vzplFHtqn8z+8LIf9of8Avt+dH2h/77fnTKKPbVP5n94WQ/7Q/wDfb86PtD/32/OmUUe2qfzP7wsh/wBof++350faH/vt+dMoo9tU/mf3hZD/ALQ/99vzo+0P/fb86ZRR7ap/M/vCyH/aH/vt+dH2h/77fnTKKPbVP5n94WQ77Q/98/nS/aH/AL7fnTKKPbVP5n94WQ/7Q/8Afb86PtD/AN9vzplFHtqn8z+8LIf9of8Avt+dH2h/77fnTKKPbVP5n94WQ/7Q/wDfb86PtD/32/OmUUe2qfzP7wsh32h/77fnR9of++3502ij21T+Z/eFkP8AtD/32/Oj7Q/99vzplFHtqn8z+8LIf9of++350faH/vt+dMoo9tU/mf3hZD/tD/32/Oj7Q/8Afb86ZRR7ap/M/vCyH/aH/vt+dJ9of++fzptFHtqn8z+8LIf9of8Avt+dH2h/77fnTKKPbVP5n94WQ/7Q/wDfb86PtD/32/OmUUe2qfzP7wsh/wBof++350faH/vt+dMoo9vU/mf3hZD/ALQ/99vzo+0P/fb86ZRR7ap/M/vCyH/aH/vt+dH2h/77fnTKKPbVP5n94WQ/7Q/99vzo+0P/AH2/OmUUe2qfzP7wsh/2h/77fnR9of8Avt+dMoo9vU/mf3hZD/tD/wB9vzpktxIYz87D3zRTZBlDR7ep/M/vJkrLRHgH7GfxJ1vU/iZ8VvDOvavqmpXugeIXa3F1ctMILaVQ8SISeFAPTtX0J9of++3514v8Kv2atQ+G/wC1D478cDVY5tL8ZxW7fYth3wTRrtLZ6YIxXstc+GrVlTtJvd9fM9ziCrhq2M9thrNSjBuytaXKuZf+BXH/AGh/77fnR9of++350yiuj29T+Z/eeJZdh/2h/wC+350faH/vt+dMoo9vU/mf3hZdh/2h/wC+350faH/vt+dMoo9vU/mf3hZdh32h/wC+fzpftD/32/OmUUe3qfzP7wsuw/7Q/wDfb86PtD/32/OmUUe3qfzP7wsuw/7Q/wDfb86Q3D/32/Om0UvbVP5n94OKHCd/77fnR57/AN9vzptFHtqnd/eLlQ/7Q/8Afb86T7Q/99vzptFP29T+Z/eOy7D/ALQ/99vzo+0P/fb86ZRR7ep/M/vCy7D/ALQ/99vzo+0P/fb86ZRR7ep/M/vCy7D/ALQ/99vzo+0P/fb86ZRR7ep/M/vCy7D/ALQ/99vzo+0P/fb86ZRR7ep/M/vCy7D/ALQ/99vzo+0P/fb86ZRR7ep/M/vCy7D/ALQ/99vzo+0P/fb86ZRR7ep/M/vCy7D/ALQ/99vzo+0P/fb86ZRS9vU/mf3hZD/tD/32/OvDP+CqzF/+CVX7ShJz/wAWq8U/+mi6r3CvDv8Agqp/yip/aU/7JV4p/wDTTdV6+T1JyrtSd9P1RlWS5T+IiiiivpTmCiiigAooooA/sW/4Nrf+UIfwF/7B2o/+nW9r7Um/1rfU18V/8G1v/KEP4C/9g7Uf/Tre19qTf61vqa8PPPgj6m9DdjadEnmPim1JaDM4rw8LBTrRjLY1qNpaEq2O49aX+zf9qp0+9T6+q/s3DfynN7SRV/s3/ao/s3/aq1SZzU/2bhv5Q9pIrf2b/tUf2b/tVaoo/s7Dfyh7SRV/s3/ao/s3/aq1RR/Z2G/lD2kir/Zv+1R/Zv8AtVaopf2dhv5Q9pIq/wBm/wC1R/Zv+1Vqin/Z2G/lD2kir/Zv+1R/Zv8AtVaoo/s7Dfyh7SRV/s3/AGqP7N/2qtUUf2dhv5Q9pIq/2b/tUf2b/tVaopf2dhv5Q9pIq/2b/tUf2b/tVaozT/s7Dfyh7SRV/s3/AGqP7N/2qtUm6j+zcN/KHtJFb+zf9qj+zf8AaqyGzS0f2dhv5Q9pIq/2b/tUf2b/ALVWqKX9nYb+UPaSKv8AZv8AtUf2b/tVaop/2dhv5Q9pIq/2b/tUf2b/ALVWc5paP7Nw/wDKHtJFX+zf9qj+zf8Aaq1RT/szD/yh7SRV/s3/AGqP7N/2qtUUf2bh/wCUPaSM+e38lutR1YvPv1Xr5jGQjCtKMdjqg7xCiiiuUsKKKKACiiimBat7dZkzipBZIO1JY/6mp6+uwuFoypRk4q5xOTuRfYo/SkktE29KmqO4nWGFmJ4UEn6Cun6rR/lX3C5pdyJLNAelSfYo/SsD4W/FDSfi/wCEbfXNEklm0+5Z0RpIyjEqxU8H3BrpKf1Wj/KvuDmkRfYo/Sj7FH6VLRR9Vo/yr7g5pdyL7FH6UfYo/SpaKPqtH+VfcHNLuRfYo/Sj7FH6VITilzR9Vo/yr7g5pdyL7FH6UfYo/Spc5pCcCj6rR/lX3BzS7kf2KP0o+xR+lVrTX7O/uhFFcwSSHO1VcEnBwePY1d3UfVaP8q+4OaXcj+xR+lH2KP0qWkZgi5JwPU0fVaP8q+4OaXcj+xxj+Gj7JH/dp6Sq54IOPQ1hfET4iWPwy8Ovqup+YtjCwEsiDPlg9yOuPpR9Vo/yr7hcz7m19kj/ALtH2SP+7Wd4U8Vw+MPDdvqlurLb3aeZFv4JXsfxrm/hj8aYviX4m1TTYrKe1fRzsneRspI2cfuz/Evv68UfVaP8q+4OZna/ZI/7tH2SP+7XIa98ctJ8O/EW18L3EdwNWvlElugA2yp3bPbHvXZK24UfVaP8q+4OZjPskf8Ado+yR/3ak3UhcDvR9Vo/yr7g5mM+yR/3aPscf92pN1AbNH1Wj/KvuDmZH9kj/u0fZI/7tZuseOtK0DUUtLy9gt55MbEkbDPk4GB35rVV9y5o+q0f5V9w+ZjPskf92j7JH/dqQnBpaPqtH+VfcHMyL7JH/do+yR/3aloo+q0f5V9wczK8lsgHSqsn36uyd6oyffNeHnFGnBRcEkbUW3uJXh3/AAVU/wCUVP7Sn/ZKvFP/AKabqvca8O/4Kqf8oqf2lP8AslXin/00XVZZL/Hfp+qKrfCfxEUUUV9QcoUUUUAFFFFAH9iv/BtUGH/BEL4DbiCf7P1HoMcf2te4r7Vm/wBa31NfFf8AwbW/8oQ/gL/2DtR/9Ot7X2pN/rW+prw88+CPqb0N2NqS0/1wqOpLT/XV4+A/3iPqaVdi6nWn0xOtObpX2hyCSPsFcNoXxqt9X+PereBRaTLc6ZpUWqm4JGx1kkKBfXPFeT/FbwX8X2+NXi/UNBvpn0W90P7NpKfbAkNtOVx9zH3w+W3ehA7V5J+xP4K+Kvh79rIWXirWrU6vYeELY66blPtM12DdSbQkmeMetAH3dRSDgUtABRRRQAUUhOBXNeOPixpHw7mtI9VmMD3zeXbjbnzX7KPegDpS2KXNeS/tQ+Ir7SdB0uWw1n+wGlly1w54cY/1OP7zdAexr0PwlevP4UspWVg7QKxDtk9O5oA1ycVz/jP4naN4AkgXVrtbT7UdsJccSN/dHufSue+Fnx3i+J3iDVdOFjJYvpExtpWlbAmkHeP+8uMc+ua2/iL8NNH8e2cbatbLcixzLBvziJwOHHuKAOitLpby2SVM7ZFDDIxwakrxG0+I3jPxd4V1WDSNOOk3+lyLFZy3IPl3Sj/lqc/wY7da9F+Fmuz3/hWyi1G7iudWEW+52OGySTyMduDj2FAHU1l6h400vStSFncXsEN023bEzYZtxwMCneKvFFr4O0KbUb1jHa267pXAzsXuT7VxcHgrw98bda0vxlbTTySWR/0GdeBtB5IHcN70AeiO3yZFefeCPjHd+KPiJe6HLpklrFZlgt02fLusf88z3x3r0AyBeKalsiYOxcjocdKAOF+NHj7xB4KutOGh6YdTW4Yi5AU/6OnH7z3x6dTWv448X3Hg/wCHkurrELia3jWQxHI808fKPc9qPin8Qh8NvCc2rmzkvo7Zl3xRDMjKTg7R3b2pfAHxB0/4leHbW7ieHN1H5otywZ4xn+IdiO/vQBH8J/Hk3xD8IQarcWT6c9w7f6NJxJCAcYcdmrqS+Bnt61yPxb/tq38LlvDjQwan5i7HlwIvfd7Vb8Jre6j4Bhi1F0k1GSApcfNkbyCD07UAdFHOsh+Vgfoar/23afaTD9oi80NsKbxnd1xiuN+CfwqvvhpBepe6rPqpuXDpJMxLRL2jH+yvQUg+B8UXxcbxct3J9pdfLaAj9yUx129N+f4uuOKAO7M6qeWA+pqtq+pppOmzXbhmSBDIwXkkD0riPjZ8LNS+I8mnf2fq82jG0lEkkkTENcL/AM82/wBk967M6LHqOg/YrlA8LxeU684YYwaAMf4cfFPSfijp0t7pExns45PK80jAZh1A+h4rp815Wn7Pj6Z8VYNc0y7Gn6VCVMmlw5SC4YDHmMB/EO3612nxJ0jUdc8G3VtpNybPUJB+4nBx5Tevv9KAOgBzS1y/wl0jV9B8Jx22t3TXuoox824LZ84/3sdvp2rqKACiiigCneffqvVi8+/Vevi8f/HkdlP4QooorjNAooooAKKKKYF2x/1NT1BY/wCpqevtsH/Aj6HA9yj4lu7iw8P3s1pF591FA7wx/wDPRwCQPxNfGXiH9q/4yRfD/wAINb+HLifUtV8TfYdW/wCJe6i2sycE89MdN3fGa+2WTc2ag1KFV024+Uf6tj09jXSI+cf+CYGv+ItT+AS2+raJHp2n2t3cCxu1uVk+2qZWyxUcrj0NfS9eFf8ABOwl/wBl7Rf+u9z/AOjmr3WgAoopGOFoAWkZtiknoKYJxkcjn0p7jchxQBSg16z1F/LguoZJCC21XBOAcGvPfBnxJ1/V/i7faVeQ26aIjOtlcqPnunUfMpHYL6960fh/8C4Ph9431bW4b2eebWmMk8cnKI3bYP4RjqB161lXnw60v4QeO9S+IF9qFz/pMfk3SEZhhjyMMq9Fx3Yde9AHceNPiDpfw50pbzV7gWloW2GZh8qn3PatDRtag8QaVBeWzFoLlA8bEYyp6GuH8e2um/HD4Xu9nEdQgly9qGGElYfdbB4K96u/AjS9c0LwOlpr4H26Byg2NmPYPu7fbFAHG6lo+lfs0eKr7xfqWoXU8OtzGKdfLykDscpsH8IPQ46nk1swfGbVbv4kWGlJpLjTb1El+3EHbFld3lN/tnt2ru/EuiabqtqH1SG3mhtsvmYAqnbPNcP8T/C+o+L/AA7ZWng7VILCWxlXzJo3yFjx9zA9R0PagD0xDlax/FWp2s+nXdgbm3S5lj8sI74wWBC+9W/D9vLZaJaxTZ86ONVfLbuQOee9cZ4v+DFr4j+Ken+K5L+WC801RFDED+6cHOdy9GPoT07UAWfgl8NNR+GumXdvqOqyay88gdJ5Sd6j+59B0FdVr3hux8T2ohv7eO6iVtwSQZXP0qLXNQeLw7eS2j75oomKGMBzuA9PrXKfA/xP4m8S6bdyeJrD+zruOTasKj5SvZge+f0oA7HRdDtdB0yO0tIUgtohhY1Hyj6Vz8PxD8OaZ46/sGN4YtZIx9nSPDlDzu6fd96xLv4r6rbfGWLw4NLf+zpcN/aBVtitgnyv949QenBqv8Z/ghN4onj1Tw86ab4m89WXUix3woBgrjuuP4elAHcX/gbSdW1kX9xYQS3g24mZfnXHTB7Vx2mfFvV7z40zeGn0ox6ZEpkTUiD5cx/55D/bHX0xXY+BbO70zwpY298d15DEFmYvu3sOpz71xev2vjCL4yWbWpB8JsQ1yvHmiTttP93+93oAtfGFPGCalpx8LlTEXIvVfGPL4+7/ALXp2rV+JWiar4g8AtaaVM9rqkgTy52faYWH8R9cenetDV/iFpOgazHYXV1HDdy4KRt9589MetWPE3iex8MWiT39zFaQM23zJDhQfrQBi/CzRNY8PeCIbXW7lrzUkLedOGz5x/vD0+lYXwWHjNvEuqv4mJ+wOB/ZijaCI9zf6zH/AC06fhiu1g8VWE2jxXwuYhZzEBJXO1Wz0xn1qa01qzvovNguIXTkblcY44P5UAcJ8e/g0vjmKPWrY3T67o679L8tgBDLn7xB4I9c9q1/gwfETeDlHic/8Tnexm2geWPTZj+GutEu7vuB5GO9BcKefxNAHAz+NfFK/GGHTU04N4aJAkvtnzJJtJ8vHoeu78K9GByK888O/G6LXfipeeGI7QiWyzJJcbv3Tr2Cnu3qO1d/G+WoAkpD0paQ9KAI3+7VKX79XX+7VKX79fP559j5nRRG14d/wVU/5RU/tKf9kq8U/wDppuq9xrw7/gqp/wAoqf2lP+yVeKf/AE03Vc+S/wAd+n6oqt8J/ERRRRX1ByhRRRQAUUUUAf2Lf8G1v/KEP4C/9g7Uf/Tre19qTf61vqa+K/8Ag2t/5Qh/AX/sHaj/AOnW9r7Um/1rfU14eefBH1N6G7G1Laf62oqlsz+/FePgP48S6uxcTrT6YnWn19ocox4VYdK8D8Bcf8FFvGo9PB9j/wClEle+scrXgXgQ4/4KK+Nv+xQsf/Sh6APf6KAc0UAFZup+LtO0a8+z3N5BBOQGEbvhiCcDA71pV47+0/pul6LfaN4l1C1v72XTpwtsto3zwMf4tv8AED3z0oA9dW5DFfmHzdPesXxZ8NNF8dXUE2qWcd29sP3JfP7o5zuHofeuD+O2nT+M/hNZ6hBq03h+OEC4mvYMtLChGCOOxzhvQZqn8OPjzLrHiHStD0yzF7pbRojaom77OCBgqCeST1BoA9I8V/DzRvGdjBBqtol5DaHdGkmSAcYzj1HrXHeBPi81948vfDMulS2NjpaEQ38rfublRgYQnqR3z+tT+HfCXiy1+Kt1fX+o+d4dlZvstmJPmtz3Zj/ED2Hauu8XeFovEnhq7sQI0F3E0RYoDt3DBNAHH6d8HY4vi83iWDUVOPkNjGo8iMY+9gfxn1r0hxviOea8u8CPoX7N2kWfhq81a4uZrmT/AEWS5y9xdEnozfxt/TFY+ufFPWr39oW10HTLn/iWb1+2wFR56cZ3KP7nqaAO11n4uaNpnjyHwnJNMus6hHmCBYc70I5cHpgd6b8K/gvafCW61B7S6uZ11F/OlWY7ismSSVPZTn7vQVuXPgPSLvWxqUljC+oKwZbgrmRSOBg9hT/EXjjSvCskcN/eQWkkyloxI2N+CAcfmKAJNf0jTvGWlSWF75dzBIcSQ7/v47HH8qw/AGu+F9Fu28OaFLGkts7l7SMHNvzzkH7o9O3pWb4d+DP9jfEq48Tx6lNK18CGtiMQop6FR2b1PesfU9R8KfC/4xW6fZroeJNePyyLkm8UnkMfRAOAenagDV8ZfDnxHrHxPsdZsdTEGl2pUXGn+YwW9wepP8O326966H4r2euX/g+aLw7IsGrMR5Ern5Iz6t6j2q5pPj7SdY1VrC3vYJL1CyvCG+dCOuR2p3jzxMfB3ha61IQm4FonmGMHBYD096AM34d6fqS+CbODxBsn1OP/AF7feV3yfmHoPSsj4cfBCx+HXjbVdatbi4afWTuuY3A8vdngqP4foOtbPwo+IsPxP8MLqkNtLaRyMVEcwxIuP7w7GuD+Mnwo8U6l4wfxFoWqyxm3CiHTUciOd8YEj9sg9umKAPQ/iV4Sfx14NvNLjn+ytdKFEwGTFz1Hv6VieFNDf4JfDKRJpJNW/s5HlaUkCWYDnLFjy1XfhNea6PCEX/CUhItZEji4CkeWSDwU/wBnGK6a8todRtCrok0TjBBGQwoA5z4SfFW0+Lvhs6pp8M8doXKIZ12O2OuUPK/jVTwn8brHxb8RNT8Mx213DqGkgtOXA8srxtKt0bPcDp3xXVWWmW+lpJ9ngjh8w7n8tQNx9a4vx58SPD3wq8Q2MN5aeXe6kzC1kSEfvJD1Xd2z1OfSgC9H8btDm+IEvhjfc/2zboZXgMR4jH/LTPTbWl4S+J2ieObiaLSdQhvXtuJ1jyfJP91vRvY81xHw28QaH8UfFmpXEOhfYtQsnKy3jgCSRjwdjdSuO/SqHir9mSK11C3n8H3x8P3DTm4v3jds6ixOWEn+93brwKAPXZNRhSYxtNGHUAkFuRnpXn37RXxNvvAXh+EaPc2keszyqLaK5GIp88FS3+HNTeMPgh/wmHjDRtZbUJbWbRQhSCL/AFU57iQfxL6A9DzW94y+Fuk+P7m1m1SAzyWR3253f6l+zD/a96ALXw4vL/UPB9hNqaPHfSRAzq6bCr9+PT0rdqK2h+zwquSdoxk9a4G6+LuoWvxj/wCEcOlsLAhXGoHPl5K58v8A3v6UAeh0UituXNLQBTvPv1XzVi8+/Vevi8f/AB5HZT+EKKKK4zQKKKKACkpaKYF2x/1NT1BY/wCpqevtsH/Aj6HA9wqDU/8AkG3H/XJv5Gq/iXVRoWhXd6VZ/skLzFVHLBQTgflXy7qv/BSmC38D+F7qXQJftfivX/7E8tJNyWiN0kdh0POMevFdIjvP+Cdf/Jrujf8AXxdf+jnr3WvlP/glV+0BoHxN+EV94Z0waj/aPhG+uLe/8+0eKLc0rEbGIw49xX1ZQAVFfKXs5AoySpAGcZqWmv0oA8e+DC33hLx5qllrniOLU7m6kItLQOxewXJbysY+YY53n6Vem+IXinRvinfxX1kR4StkMkV2iAyuwGSpXOQvo3euht/gzpVv8R38VL9oOsy/I8xkODHjHl46be/1rzz9q7w5LZappuu/6VcWcDCGawtc7rsH++B1UfpQB2dz8d7PxN8O9T17wu41hNOOECo227cdYkIH3s/LnoD16Va8FTt8cPhnG/iLTGsvtjZn058gw4P+rf16c44NXPhZ4R0jw/4YhOladBp0N0BO0EP+rDEckDp9axbr4ja7F8ZF0CPTR/ZBw7altO0NjPlf73v0oAzvHPgbxN4a1LSbTwT5dpolsd19DI4AMZbO2LPRh78Yr0HWPECaR4euLlZIGkt7cyhXlCg4Hc9ue9W57mO5geIPGXIK7WPcjoRXl2ifs8XGjaZ4jtW1NLsa7GVXzVZhZZbO1OfujqB60Aa/wy+KEX7QfhHVfKtpdPTJtWiuFxNGSOdyHoD29Rg1q/CT4S23wh8PTadZzzzW0kvnL53zOpPUFupGenp0rjHuW/ZP+G1unkTeIC115cs8a5u5w3R3/vEdz6CvTNG1v+1/DdpczmKJ7yIMFEg2kkdAadmBnfFca3L4Ful8OELrTAC1ZiNitnq/qvr3rmH8H674s+Czabrupf2frMq/6ZfI3EJB+Z4j2H93PTvXKW/xUsfgJ8Rp4PG/i+yV9VdVsLBpS0lsrvtRcY5BJ61f+K/7XfhLw58OvFd/bzvqT+GbxdM1K1gjzOjuyrhUP3vvCuuOBryipqDs+ttO24uZOXLHV9j0L4RaNF4Y8I22lrfxai1kgBuFfc0wPIdv9o9TXVAV8mfArXdP8f8AhrxL4L8K6jqWheIbSeO/CXs3763R+RMPVecbTwOle0/Dzxy/g7w9f2HiCK8tf+EciU3WpT5MF1kZLo3f3HasI0ZSbULNrezuXVp1aVlWi4tpPVW0eqfozqtY8daJo2uJY3d3BDfPtMcTD55NxwNvr+HSrPji7vrTwneSaarNfLETCoTdubsMV4BZfF3wT8afjbZi8s9astWspLgaVdznykf7PtZzCDyQ4cduQDW/4d/4KDeAPGOqa7p+j3N7fXnheHz9TT7M6/ZkBwwJI+8PTrTxNCdCoqVXSTaVvNq9vU2oYPE1qcq1Om3GK5m7OyV7X9L6X7k3gT9orxFZ+K7Lw74o0OSDW71su0J/0S2X0Mnqe3rz6V7co3qM15/8PPjr4S+KHh7StVhurGH+3VM1glw6pNcopwGAPNQfD/xR4nvviLqEGpov9hIziymjUfvjn+P0x29aipSnTdppr5HNdGz4y+DOmeN/FllrF3532zTSDaurY+znuQPf3q18UPh7pfxF8Mf2frW5tORhJMobaHA9T6d66K8uxa2zyYZgqlsDqa5Pwh8U9H+LVpqVvpN15jWpNtO2zIhk6FTnuPSoGYPjez8LXnw7j8MXmuQ2ljOixpIZBv8ALHOAw6HHQ9fSs7xR+z5/bvw10PTNK1e4s7fSQ0kNwikTTxnBVG5GQR97PJxUml/sheH7bSpbG8uL6/tHuftiRyPzHN2YHrweQOgrsfiZ4hvvAnw+kutMtm1K8tFRYoG5a46DGfU+tAHHfDXWPHGpaFrUGsaebGS2t/L0sQAD7QOQHJJ+Vunymtz4P6Z4tPhK7h8XSwz6s+QHjx5GCOMAc/X3re+FviS78XeEba/vbf7Jczgl4McwH+6fcVvTzpbJlmVc8DJxk0Aef/BT4Hf8Ko/tAz3f9pyXsxnWaVfnhJ6op/uDt+tdX4w8X2PgPRZNR1KVoLKHBlm2kiIf3mx0A7msL4b/ABv0/wCJniLVNNsYp1l0aQw3ZcYVHzwAf4gRzkVc+K2p+G4NGW08Sz20Vndtjy52wk2P4T6/TvQBq+C/Gdj490GLU9NkM1lcZMMpXAlX+8PY9jWqelZXgzRrDQtBhg0yFILEDMMacKinsB2Fap6UARv92qUv36uv92qUv368HPNom9EbXh3/AAVU/wCUVP7Sn/ZKvFP/AKabqvca8O/4Kqf8oqf2lP8AslXin/00XVcuS/x36fqi63wn8RFFFFfUHKFFFFABRRRQB/Yt/wAG1v8AyhD+Av8A2DtR/wDTre19qTf61vqa+Kv+DapSv/BEL4DZYt/xL9ROT/2Fr3ivtWb/AFrfU14eefBH1N6G7G1Jaf8AHwtR1Jaf8fC14+A/jxLq7F1OtPPSmJ1p9faHKfN3xT1r4w6V8cPFx0G2uLrQl0PGixFU+zG5K8EnO7fvznttxXhP7Lvi744x/tp6NFq3hzTLq7vfClsvi64vrzyp7JBcvtaJVBDk+mRxX6CNFuNeDeCIwv8AwUQ8Yj/qULP/ANKHoA96TpTqRelDHAoAr6rq9votm09zKsMSfedjgCq1je6d4qBkha2vUgcruGHCnuAa808Wat4n8ZfEC68MXGnmPwrdxsh1FE+dmx/qsdhj+Ku1+GHgCx+E/haPSbF5PscTExLK2WUHnGepoA0fE/hm11vw1c6fJDutZojGYk+UEY6V5/8As7eANf8ABFleWmtCBLZGzYQwACKGPJwCP73rjj0q98ab/wAYLe6aPCSrIjE/bt4GBD3MZ/56eg6V3j38el6OJ7l/LREDSO/G31zQBzHxi8Ka14t8KfZNB1D+ytQLgrd9fJHf5e+elFz4xtPg58PLKXxHd+UkSrFPdMSyhv7xPXk/zpnjT46eH/BPhifWri8E2mW0ixTzwDzFiZumcfUdPWuH1K9174leK0uLzTYZ/Apj89FukBkMm0kbl/55/rmgDvrjwPoPxNWw1u5sxNKI1ltJJeGh5yGUdj7+lSP8L9GtNcl1qKADWNpzdBv3jDGNufSvL/DzeIfjjoECafDceC4dGkMSQylhNcR4446eW/Y9cV2HxM+FOueN9I0qOw1RdGlslH2kxux+0AYzGf8AZPr1oAsfBqz8YWmo6mfFE6z27tmxKEYSPPAb1f1PSpPGvgrw18atUsFurpbmbTGea3SKXBilVgN+B3UjvWz4r1yTwH4Blu4kSaayhG2LJPmkfwr3ye1eZ/Bq0sfBvhXWPiFeW9/p9xfPJJqNpJ8z2+H7r0BUdQvagD26GH7NAiZLbFC5PU4rx2HwbrFv8WdR1rxLFazeG4svaOVDT223nLHrtznGOnevSPAHj+y+I/hqLV7AubG4yYZHG3zF/vAelaGuaLD4l0i4spi3lXCGOQI2Dg9eaAOI+GfgnwpP4v1DxVoczXV/fMY7u6ViyT+g9Pl9q9Au7WO9hKSIsiHqrDIrH8BfDjTPhro50/SYfs9lv3rFnKpnrj+dcl8aY/EOs3tnF4a1O302W3cG6aWUASIT/qwvXJ7GgD0K2sobXcI40j38ttUDJrz/AE/X/F8vxils5rQDwrlvIugo8ySTH3WHZfQ966PxXpuqX/w+kgsGeHVWgVYmMn3JOOS3cevrUPwk0jXdD8KJB4juVvdUVyZZ0bKS+6jsPagDjPidqFl8Y/FQ8IWOr3WmaxYOZrgQgiSNMcc5xtbpXqXh3TG0fRLW2faTBEsZI6HAqhY/DvR9L8SPqsFlEmoysTJcAfO+cZBPpx0rT1m6az0yaRDhlQleM844470AcN8W/iVrng3xPpdnpWktqVvfAi5mCnFiuf8AWH1HbA5rqdS8Gab4lCy39lb3btGFzImcDrx6c1yXwk+IHiLxHpurXHiTSDp0tkT5EKpkzxDkSA9Pm67e1bfwr+L+k/F7Tp7vRmlltbaQwPIybf3gyGTHqpGDQBv2miW+nBfIghi2rsGxAMD0rz7S/h14ksfjVLrkmrFvD0iMkemBz+6fj97nvnkbegr0PW9SGkabNclXdYULlU6kDniua+FPxg0b406HNqWiNNNZwyGAyuhUF14YDPoePwoA61T8gryP4pfHPUR4oXw94Qg+2+Ibdibq3lTCRR/3y38vWtf9ofxXr3hHw3ZzeH5baG9knCFrohbfaRzuY9D6e+K0Ph94V0i5tLfW4YI31O4TdLeL9+ViPmyR1GfwoA6fRXnk0O2a5J+0NCrS7hjDY54rivhp8W3+IvifUbJ9NezXTWKebIOLhgcbo/Vfen/C+bxifGWsR+IlT+zQT/ZrR4JdN3WT0b09q7n7FFA2VijB6ZCgUAWU4WlqnLrFvZOqSzRRMVLAMwHA6mrMM4nQMvKsMgjvR0ArXn36r1YvPv1Xr4vH/wAeR2U/hCiiiuM0CiiigAooopgXbH/U1PUFj/qanr7bB/wI+hwPcbJEJUKsMgjBB6Gua1L4W+G00eRBoOkKsJaeMfZUwknXeOODnnNdPVfVf+QZcf8AXNv5V0iPE/8AgnVHGP2XtIdY0VmuLncwXBb98/WvdK8K/wCCdB/4xb0b/r4uv/Rz17rQBT17Wo/D+kXF5KrtFbIZHCjJwOTXk2r+N9d+MM9hqXge7/4kMUhS9d/l+0gNyIvQ+5r1nXdFg8QaXNaXKl7e4QpIucbgetc0P+EX+CtoId1vpFtduWSPO1GbA4UdMn0HWgDq4GKWq56hRnP0rjfC/wAXNK8eeOb7Q4rSX7bpeRO0qDavptPfPtWXpHxO13VPjA2k/wBn/wDFNlQ0WoNEw8xymfJx6jru6dutS/Er4kaB8ENQ0+SfTD5+qSmCF7eMFjIx6N3APqeBQB6FDClvGFVQqjgKBgCsnxV4otvDWiXd4TFJ9lUu0YcBiQM4+tch8XNJ8Y+Ib3R5/DFytlFHiS/DSD9/GcZjX0b/AGqraj8D01D4mQeI7y/2rIghfTpTmCVcckjvJ70N2V2ByfhnxfoWv+No/Hj67cWGmXJaGC1uFKRylRtLFe0meBnqBVfxf+23o3wY1O/vvHV/aeG/DEI22eoXKlf7QYkAKi9cjPpzXmf/AAUV/aw8JfA7UfDfg3SPD0fi7xx4nnL6do1lIF8ojpcyAcBVI618kft7/ATxR8NtG0Txf4x1fXfHl/4gvF1O50Oe1aXR9ItggR0LDOzaT978a9fE4KllmV/21m11SesYr46mtvdXRLu/lc93hPI55/nFLJqE1CVS/vPZWV/vf3dz7Qsf2n/iX8bvjePDPhnwbb/8IPf6dNLZeN2IaISMuY5I4z94DOCDjNeY/tK/GbxJ4Z+Ivh74Za34os9K1bwVp0XiCPX7sfZrTXJ/mTayLjaqMwOB1xXWf8EYfEuvWHw88TeD9YtGTT9BvEn0iaOU3FqbWdfMVIpSPmUZ/DpWp/wV1/Z10fxf8KrH4gtaQPqvgq9t53eQ4WS180CSMjuDnOD6V83mXFFXEZVDG5XRVFxWq3btdSbb1vZ9LLTY+xyzhTLsBxZPIs2n7WnJ8kZRtvKzg7XtvZNN9X2NT/gnR8X9O/aq+GlxrXi+Hw5rnjHQ72TTbnUFtkO9UclCpIzjoRXH/wDBY34USL8H7HWdDfTtHF9q9paarJDFtvLzdKvl7GHdWyTxzXrXwa/Zi8HKNH8WeCfsmiWdzHHdS21io+z3cjKNxkAOCfT0rnP+Cgnw78U/FLVPhtYaDpZ1K00fxJb6rqeVOyCFNylmPQjnoMnivPq/WZZT9WnUcpONrpvVDyjH4GjxtDHYWCpUYzcuWajaNk7q22+3bQ8++C/7DfxR+Hn7WZ8TR+LH1bwnrGk26X1zeMq3k5QArCQoGFz3Ffbk1pFLp5hmjjljKYdJBuVh7g1neLPGNj8OvCkmq6nIYLC0VTNKq8Qrxlj6AVXPixfFnw7k1bRvOYXMBktG8vmTP3SAexrvy7AUsFB0qOzbffVnxfEvEGLzrERxWLtzRio6JLSOiulZXtofCni3wxdfth/8FQksrDV7rwc3w48PPsubF1LyNJIVDxIykYxwTjtXongD9lpf2af2kGkHijxH4l/4S2cXGqrdxQ/ZZ5DxmchMg/3QOpr3D4CfCQr4qvvGXiXw/p+n+NbiMWcl1bxAFrcYKoGHUdz716rLpEFw7Foo2Z8ZJQEnHSuLB5PGFaWJr6zcnJO79FpttofQ5vx3i6uEpZbgX7OhGlGm48sXez5pa2bs5O610PGPjZ+xT4N+MEVrMNOj0zVLGIwWl7bFo3skZ97eXtIAJIqPwr+yvrHgXS7eDQfHWt2DxlmlEuLhLh2dWLtvyQcKRwcfMa7P41fFST4Tf2X5Omz6n/aE3kssPLQD/no3og7muv065N3YQynaTIgYlTkc+hr6v+1cUoqDm3FdHqvuZ+eqir3PnXUP2x/Enwk8cS+E/iZ4WcPfoZNLvtD3TRXUZk2BG3Y2yAHJ5r2r4a6X4T0a2e60F7GJLvmURSD9468EtzywJwTXIfGrxRptv8R9E0jUfDzaob9dsV2ELR6fzy0h/hB7H1rwH/gpP8DdY06+8CXvw/1p/COo6bcTGJLWIuupuRuEDqDgKzAZZuPevTw9PA5jXhSk1Qb0cteS/pur6dwm5U433PuEEOmRjpVW6v4IWKvJEGUBiGYDA7Gvl79hb9vqf4vhfBXxD05vCPxI09PLksp1McWobeGaFjw2O4BOM17X8R/hC3xB8UabqQv3s/7KwwjTOLrnO2Qd1HYetcGb5PissxLwuLVpL5prun1T7hRrxqK8TurMbVbj3GK8n8U+KLX9odtV8I2VxfaRdabKPtN3GQHhIPHlnuT69q6/xd8W9J8Da7YaTfPLHfaqQlmipn7Q3dV9x1+lcx4X+Guv6R8ZLnUpFt4vDzF/s8UeBMpPJLnupPQdq8s2HXmr6F+zR4P0mW9s/Ndf9C+0WsX7yRm5BYdTk9T2zXQeOfhbo/xw0WwOs27ywRYuIoS/CP1VsjuO1W9U8ReGdW8UxaPePaT6rGxWO2kTdJyuSwH93H8XSsX44fF0fAnQbGeDSZ9RimlEHlW45hH98+iL1J7CgDu7CAadaRwglhGoUE9TjipzLWBo/i228SaMJLe6t7ibyBI/2Z/M2bl3DH9K5j4Laz4v1XUtT/4Si1FtCHB07aP9bDz8z+j+o+lAHoj/AHapS/fq6/3apS/frwc82ib0RteHf8FVP+UVP7Sn/ZKvFP8A6abqvca8O/4Kqf8AKKn9pT/slXin/wBNN1XLkv8AHfp+qLrfCfxEUUUV9QcoUUUUAFFFFAH9i3/Btb/yhD+Av/YO1H/063tfak3+tb6mviv/AINrf+UIfwF/7B2o/wDp1va+1Jv9a31NeHnnwR9TehuxtSWn/HwtR1Jaf68V5GA/jxLq7F1OtPpidaeea+zOUM14J4KOf+CiXjH/ALFCz/8ASh6b4i/ap1vwp+0R4m8PXmiOdA0TSxdQPDDJJc3UhUMGXA2lSTsAznKmvDf2MP2qPEfxo/a4fXdQ8Ca3Z3HiPw1HDdKEEQ0pI7yRVaVXIbkAdAaAPu5Pu0OwVCT0A5oT7tNnQyQsBwSCM+lAGHq/i62k0e8k066tp7i3iMhAO7bj1A5ryW6vtZ+PPg//AImd2fBN3DckREnbOEC9Q3Qq47elbdnovhv9l1NR1u6u7nytbn3XkjjeBJ6gfwjtgcV0vjz4eaZ8ePBtpHc/aIbKbbcLs+SRuMrz1FAGhFYy6b8OfstlIZ7mOyKQSW5wXbacFSe+fWsH4Y6P4p1rwJf6d4yZft9wWjaW2YeW0ZGBtHUHHX3rn/EXx0b4P+I4dCuNPuLjTNPgV7jU1TEcCAcq3+3jkAdgan8N654g+I3jq117SL7HgmRxhDxJcH/novonseaAOl8N/Bvw38PvDyaTDbQtpsL+fFbXJDpG+OSAfU/zrI8KfGDQvE8OraNYw/YTpqmF1kYQxo5yAqsP5ir3xY+DsvxX1TSrqPVJbFdKYuY4ydtycj5JMdV9qn+IH7PuifETwoulXMC2cLbfONoPLeQDnG4c9aAMj4CW2oaILldd8QWuu3l1KBbypPykYUbYgvfaP4v4uteosynjIryfwT8KvDulfEaDU7bWDda1bRfY/LBAAhQY2lB0P+11NavxS+FmveMfGmk3+l6w2nWdg6tc24cgXwDA7DjoPegD0J7dZFwQpHoRXmw+KNr4v+J9z4JutF82BQ0kk8gBtpQuCAOOXz1XtivS4lIjANV10i3jmDrDEGDFwwQZBPU/jQBk6x4GtX8KXumafDb2IulYAxx7VVj/ABYGOazPg78Orv4YeGprK91SbWpHmMn2ufPnODj7x9ugx2Ars6OtAHm3g/xP4u1D4o3lpf2fleG49/2W68vD3DejD+EDse9S+KPgRbeIvilp3itry5jvNN+WOFD+5kB6716MfQnp2r0TpRQAyLlaivo2e1kVM7ypAw2DnHrViigDzj4X6F4k8AW+q3PivWjqVsW86BzIT9ki/wCeZH8RH97qa2rnxTB8QvCuoJ4fvYrmYKY45o5CoRyODuHpXQ67o6a5o89m5ZUuEMbleuD1rE+Hfwt034Y6ZJZaVGYLN33iLPCk9cfWgDnfh54K8QaF8P8AU7LxFfvrGp3BfddI/wDrwRxhTwuOBij9nrwlrvhix1Aa9b2EE8jKIDZRqkZhUYUEAD5/U10fxR0bWNW8F3MGgTra6sxX7PMzYWM56n1Ht3qT4Zadq2leELeHXJVn1Vc/aJVbKyN/eX0B7DtQBs6pZQ6hZvDcKrxSrsZW6MDWNc6FbeE/C95/YttBaSCIsgt4R8zgYHA69AKw/j/4b1Xxb4KNvpeqyaI8biaS9iBMkaLycAdc9Kv/AAh8T6f4i8IW8djeRX4sUW3lmjYsrOBzyep9fegDmPD/AIe1T42fD2+0nx9Y/ZxPIFltI+Eli/3vfv6Vv61DJ8Ivhbs0eB71tMjVLa3fLNIo4CAjvjgGtPxb8TNG8D3kEGp3QtnuuINwOJW7Kp7sfSt6KQXEQIHUZ5oA8/8AhR8cLTx1pKR3rw2OskSPPYciSzCdQ/09elcBY/FXWfhZ4/kj1PUH8T2OtOFsFt7kyDTFLcCT1GD98/SvUbb4M6Vo/ibUdct96arqUbxzzHB81SOFI6YHauE+BcfhXwy/iOy0KK4vHsy0l8lyg/cSgncm4+vUAcCgDsPi38E7b4yJpf2m8ns10+QXCNbna0jdgx7p6r0Peu3021NjZxQk7jGgUkDGce1cd8GvjJafGCwubmwtp4ILSTycTDaxYdcD+7noe9dzR0Ap3n36r1Yvfv1Xr4vH/wAeR2U/hCiiiuM0CiiigAooopgXbH/U1PUFj/qanr7bB/wI+hwPcr394mnwSTysEiiUu7HooAyTXnlx+1F4HvPh+2vrr1oukz3Y0yOdztEly7bFjGeSSxGK9A1jSo9c025s513QXUTQyD1Vhg/zr588Uf8ABN7wNq/w/sNEvbjWrnTtC1NNbtEN2UKXEbh0Jx1AwBg9q6RGj/wTb1e01H9l7So4LiGWWC4uRKiuC0Z85+CB0r32vnD/AIJi/D3RfCX7O0F/p2nwWl7q13cSXkqZzOwlYZb3r6PoA434033iSw8Mq/hVFl1YSqEjkUGJx33nsMdxWa/w7s/ix4O0b/hK4Zbm5tR5pimO3ZP/AH8DjcvY9q6H4oeL5fAng671OG3N3LbgFYF+9Nz91fc9q84+E2i6/wDEHxhD40uLx7PTZyyjRWLf6MwGNzZ/j7EdKANO31DxVo/xW8mVWHgy0UkXLoDKGEfIY9dn+11zXXah4g0TVdKvL+NbDUzYQkt91iBjOMnpmtfVNP8A7R0i6tixT7RGyFwM7QRjNeFWH7O9tZeJre18M+IwumQS+fd6Y8pc3hz86v3AzyP8KAPUvhP8VbX4r+FZtSsLWaztoZWgRZRh/l4Py9h6V81/tmftJav4V+C3iGbWbS8sGtphDoRs4C15q07NtjMQByh3EA98ZNe8eMfiY/w1+IWm6FY6EHt9W2GS6gXEdoen7zA7jgV4Npei237Zn/BQnU726uodV8EfCGKKKzt4/wDV/wBrty7MQeSgxgY7173DuEw9XESxGLV6VJc8vPVWj6ydl6XMq8nbkW7PO/2Lv2LfHPwV8Y6p8QvEAk17xb4ssIZZ7x7JN1hLsBW3hRvuRgYDEdTmvs34a6dq/iP4c3MPjSxtDfTCSOe3aJTb7CCNo45Ujrn3rV+KUutQ+EJ28PLv1cFfIVvuE+jf7NSfCybV73wXb/2/GU1Q5FwnG0HP8PqvpXFnWcV8zxMsVidW9EuiS2il0SRpRj7NLkdj5e/4JmeEvFHwn8d/Ezwnc21xF4Hs9RF34deVvlSOXJaOMH/lmDnGMD2r6V+O/wAJLL47/CLW/CeoHbaa3bNbu2wNtz0ODkcGupi0uO3OY40Q4CggY4HapljKivnsLgY0sP8AVnrHVa9n0PczTiDFYzMv7V0jV913X80Uve9Xa78zy79kX4Dah+zf8ENK8H6hrTa8+lbo4rkx7P3eTtX14HFepGLIxtpyrj606uujSjTgqcFotEefj8dWxmInisQ7zm23olq9XotDK8UeENP8W6cLTULaO6tSwZonGUfByMjuPapfD3h+08OaYlnZwJBbRZ2Rr91PYDsK0KK1OQagwKdRRQBHJbRytlkVjjGSO1ebfEvQPF914002TQLn7PpEZBv4t4BmTcPlj/ut6nuOK9MPSm7DQBX+xRuMsibiADkVwGsfEzR7j4uxeFbrSfO1KSEus8kYaPyup+Y984+WvRmQntVSTw5ZyXYuDawG4DbhIUG7PTrQB4D+2l+xBF+0sdE1nSdVbR/FnhGUXWiSTZksoZwQdzxDG7pj6GqX7Kv7aE/xS+MviL4aa8NOTxd4Md4tUmt9yW923ylfs+7lsKfn9Ca9o1/4s6P4f8cWnh25eVNU1AZt49nEw7kH2718q/8ABQz4OyfBrxrovx48M2NjaXXguOQay7TtCLq2ldfNbao+aTA+8ewr67KMSsxpLKMY29GqL092b1s3/LJ6eTdzjcHCXOj681z4d6N4o1GK9vtPt7q6gAEUrrlo8HPB7c1uxoFTA9K5z4b+PNP+K/wy03XtFuUvLDWLJbi2ljbhwy5GDWD8GfD3ivw9d358T3UV0JMfZSkmRCmThD6kevevk5wnTk4VFZrRrsdm+xm/GX4I3Gra0vibwwTbeNlKwQahJKdsMHOYmXvGepXu2DWR4ybx5Y2Oj2VirXDyW+zVZJwszREnBePd1PXjpivafMDH3rw343eI774h/EzT/B+k3Vxo+pW0n2mS6Rv3csX9zI7noR1qQO0+Dvwu0j4K6LPp9lduYrmT7S6zuCwdupB64J6DoO1d1ANv07V5x49+Bc3j/WtBvzqUlg+iKp8mInZdMCPlk/vL6V6VESkIBxnGDigAf7tUpfv1df7tUpfv14OebRN6I2vDv+Cqn/KKn9pT/slXin/003Ve414d/wAFVP8AlFT+0p/2SrxT/wCmm6rlyX+O/T9UXW+E/iIooor6g5QooooAKKKKAP7Fv+Da3/lCH8Bf+wdqP/p1va+1Jv8AWt9TXxX/AMG1v/KEP4C/9g7Uf/Tre19qTf61vqa8PPPgj6m9DdjaktP9dUdSWn+urx8B/vEfU0q7F1OtPpidafX2hyED2MJlMhijMhGNxUZx9a8I8BRJH/wUN8YBVVP+KQs+FGP+Xl698fkV4H4F4/4KH+MT/wBShZ/+lL0Ae/AYpspxGfpVbVNXt9Ft/Oupo4Ishd7nABPvTdN1iDWrLz7aZJ4SSodDkEjrzQB5voP7PrHx7e6vrlyuq2dzuMNjKC0VnnugPr3rtfCXibRZsaXplzbl7NSht0PzQgcYI7Vzlr8ZJrr4st4YOmyhFBf7eP8AUEf3Af7/ALVp+E/hDpHhXxlfa7ZxzJqWpcXcpfP2nn5dw/2egoA539oLxpJ4Zis7RPD6a7BqL4nTZkW4BGJX/wBhe/eug1z4drd/Dm60vRfJ0w3w3h48qImbqygdD6VZ+J/xP0T4U6bFfa45gtJ28nzvL3KrHop+p4HuazfiR8bbH4b+E7HVrq1uza3uFVEX94pYfKCv8/SgCb4f6UvwY+Hy2+taotwLZyZL6diDJk8M5Peuo0TX7PxLpqXdjcR3NtL9yVDlX+hryPwp8QY/2lRqfh7V9HmsNP8AJH2gPJlb1GP3UYD5kxw3vW74m1SP9m34e2kWj6Vdalp9q/kx2cLbpkQ9Ag749PSgDX8N/BjTfC/j2+8R2zz/ANpanxduzZEwH3Rjtj2rtaxvBOuyeJfDFjfyIsT3UQlaNTnZnt+FbNABRRRQAUUUUAFFFFABRRRQAUUUUAFY3jhb1vDN9/Zu8ah5RFvtP8fb9a2aTYM0AcH8MdM8Raj4PmtvF+3+0ZSUlMLfumU/3O4rb8CfDrSfh1YzW+j2q2dvNKZWjT7u49Tj3qT4j2eo3vhC8j0hnj1Jk/0d1YLtbsTnt61m/B6x8RWHhQL4plS41kyMZpIiPKf0KDqB7HmgCbxr8JdE+IN7bT6rbfaXs/mgyx/dNkEOPRhjrVDxZ8adM8A+LtP0C5iuWvb8KtrgZWX1ye2PetWy+JOjX3iuXRorxW1OEkPb4+ZAOckenvWR8SvGXhbwXrdl/bdqrXeoMFtpDBvMjg8Kp7GgDW+J+jan4j8F3NvpU/2TUJNvkTbseS2fvH1A9O9Y/wAFfhMngHwZFDfRQT6s6ul5cgZ+1EsSWP1647VsfEfxw/gfwJdavHbG6a2VXW3zh5ckZVR/e9B61H8MvGtx478Fx6pNamwM5YpA5zJEASAHHZh3FAG1pmj22kyfuLeGHcAp8tAuQOnSr9ec/Cf4h+I/F/ivU7XV9LTT7OzyLWUI3+mruI8wZ+6O2OtejUAVL3/WfhVarN7/AKz8KrV8ZmH+8SOyn8IUUUVxGgUUUUAFFFFMC7Y/6mp6gsf9TU9fbYP+BH0OB7hVXWv+QRc/9c2/lVrOKo6zdx/2PcHzEwUZQd3U46V0iPFv+CdH/Jr+j/8AXxc/+jmr3fNeEf8ABOr5f2XtH/673P8A6Oaut+Inj3xPoPxI02y0yzFzo1wq/bZzASbLLYBHPzbumO3WgD0DUJIYLdnuDGIk+Ys/Rfeua+It/qK+Cb3/AIRXyJtYBAgCkFFcn+P29a2PFugv4o8L3dgkqQtdxGIuybwuRjODWN8HfhTH8IfDP9lx3kt/EshdZp+Zmz/fb+I+/pQBb+GR1afwXanXsjVjn7SP4Q/ov+z6VQ8IfBvTvBnjS/123knN5qvN0XbKyemB2x7V2LgbeOa850/wv4ti+L01/JfM/hhjiKxMvzRvjlyccr/s9qALf7RPxKsfhF8HPEXiGe5tLOSysneKafG0SYwmfXDEV4T+yZ8J/G3wp8HeGxaT2d/Frsn9reKNSijAe8nmcvmI9wAQDnoBxXHft+aR9g1YeGtXlkv4/iPexabZaTJGZLK2JYFpixb5CdvJx6YHJr7A+F3hP/hCPh9o+kZiK6bax24EUexPlGOBXtubpZUoLT2krvzUdvPdsy5eaoa0Gq27zGPzot4bZt38564xVyOIKc+tcIPguP8Ahbsnixr5/NZRELXZ+5CgY3Y/v/7XXHFd5FwK8Jq5qOoooqgCiiigAooooAKKKKACiiigAooooAwNR+H2larrY1GezhkvFZWWVhl029MHtXI/Fzxd4X13VR4C8QWKak3iGLYLGWMPHdRHhs54wO9embBWPqPgbR7/AFb+0J9PtZb7KETugLrt+7g9sZ7VcJyhJSg7NClqrHlX7Gt3r+g2HiTwjqvgyLwlpPhPUDaaEbb/AI9ryyPKMnuO9ereM9Km1rQLu2gIWSaMoCSQAT345rxD4/eI/i7pX7Q2i2ng4WT+FrjTJWnE4QYuwy+WCT820jOcV654An1fU/AUf9rpMupvEwnUkIQ/+yRxj0PpXo5qnKpHEuy9ouaybfk731u2rv1M6b+z2KfwS8Aaj8OvC72Oq6nJrFyZzJ9rlJ3yKQMBvp0/Ct6VNJTUfMP2IXPmbc4XeX/nmuT+CvhvxZ4audS/4SjUf7SNw4Noyv8ALbxc4jIxyw7t3zT5fgUrfF3/AIS/+0JvtAHl/ZcfuNv97b03/wC11xXlmp1er+KdO8NSRpe3kFsZVLIJH27gOuK0IJ1uYVkQ5VxuU+orkPip8G9L+LYsU1RrgLp8ouIfJbaRIPusT3x6dPUV1tjbGztI4i7SeWoXc3VsetAEj/dqlL9+rr/dqjJ9814OebRN6IleHf8ABVT/AJRU/tKf9kq8U/8Appuq9xrw7/gqp/yip/aU/wCyVeKf/TTdVy5L/Hfp+qLrfCfxEUUUV9QcoUUUUAFFFFAH9iv/AAbVKV/4IhfAbLFv+JfqJyf+wte8V9qzf61vqa+K/wDg2t/5Qh/AX/sHaj/6db2vtSb/AFrfU14eefBH1N6G7G1Jan99UdPt/wDW14+A/wB4j6mlXYvJ1p9YXjf4gaT8NPDVzq+tXkVhp1mm+aeT7qCqfw2+NHhj4wWk03hrWbPV0twplNu+7ytwyA3ocdq+0OQ8l+I37bDeAPjN4u8My6RElp4Y0b+0RczXIjM8m0MBg8CPnG71BFeFfs6ft16Z4q/bf0251nS7+31D4ieFbaGyXT4HvLaFluX+aSVRhFPYtivuTU/Bmk6xcTTXem2NzLPF5MrywK7SIOdpJHI9q8G+Ffh6y0X/AIKB+MLS0tLa1tYPCFmIooYwiR/6S/QAYFAHuHj3wXbfEHwzPpV6XFpdDbKEOCy+me1J4C8HWnw+8MW+j2TObW0G2JXbLKvYZpnxK0TU9f8AA2o2Oj3n2DUriEpBcFd3lN64ryDwZ8G/iz4R8NyQ/wDCaafd6rIJz9pubYurZjIgTb2CNyT/ABCuuhhY1Y83tIxd7Wd/v22Jk2tke7LaxI27ZHnOchRnPrXI+Pfjdpfw68V6ZpF6soudYYJalRkSNnBHtivnXxh8M/2sLr4Xpbw+MvA0viJLjeLqK1kgUx4+7gH1rk/gp4//AGjPFvxvsvD/AIs8FfD680rSzHHf6sJ5fNkQdWiLD5iD1969n/Vy9OVSOJpPlvpz2b9E0rke1/us+ufjBf8Ahmw0W2n8UpA1iJNqG4GYlcjAz2zzge9R+M/B/wDwmPw0jh0mNYrnyR9jecf6nI4JB9uor5v/AGtvHvx3k8Ztpmi/BTQ/G3hi1u0+yyy6t5RkXHLshGMjt6EVh+I/2/8A40fBTwlp66p+zxqPlhfK/d67G+0jgAEjkkVWH4Sx1eEZ0ZU3zbL2tNP5pyVjN4qC3T+5n1p8HvC174Y8GQWmriGTUbdmVpYwArjsVHYe1dU8aSYyFOOmRnFfEnwr/wCCtHibxrfavaal8BvHmm3ul2hufIhaOZ5SCBsAz15zVPRP+CsHiKx+Jn2bXvg78UdP0K6Mf2SRNKEj7nO0iTB4C9aufBebwk4OmrrtOD/KQLF03/wzPuiONYkAVQqjoAMAVNXz1df8FFfBmkeAdX8Q6hpHjSwsdFvxp86y6NL5ryEnDIo5ZeOoqrY/8FSvhJc6JJqE2p6tYW0SK7tdaXNGVDdOMe1efHh3NJXcaEmk7aK+vYv28O59H0ma8Wf/AIKCfCOLQLPUpfGWnW9pqFz9kgkmDIHlAB28jjg1p6H+2v8ACvxHaXE9n478NyQ2s/2aVzeKgSTGdpzjnFc88ox0I80qMrf4X/kV7WPc9XozXEL+0P4GMbMfFvh4BIxKxN/GNqnox56GtzTPiDoetadDd2ur6bcWtxkxTR3KFJcdcHODiuWWFrRV5Qa9UxqcWbdFUl8Q2Usasl1bsrcgiQYP0qZLxGB5B+hrFprcfNHuT0VEtwG6Ggz/AD0h3RLRUYl4pyvuoGOooql4hmlt9FuXh3ecsZKbV3HdjjigC277Vrm/DfxQ0bxbr11pljcibULAkXMGPmtznA3DtntWN8FNa8Wa7Z33/CWWsdndLKRCkQ+Ro+xz6+tbWgfCzR/DHiG41WytVgv7wH7RMD80/f5j3x2z0oAgsvhPpFj43l8QpCw1WckSz7uXXsh/2R6Vc8U+CdJ8QyC71G0S5e1Q+WWGSnfK+/FYnxps/E9/olvH4UmWDUfN+aSQ/ulXHOR6+nvXR6LYSXPhO3tr3zTM0AjmLN85bGDyKAKfgvx9ovxBgnTTZkvEsGEcpxkRuP4T/tDH4VuEx2kZPyRrnJPQVwt1omifBnwvqw0YQabezwmVEBBM0g4DYPUkkZPfNVvBlt4m+Inwzv7bxKkFlq11mMxouYoRjgqep9frQB6NBNHP90qccHHapa4/4NfDa4+GPhprC4v5NTfzS/2mU5lkz/eNdhQBUvf9Z+FVqsXn36r18Xj/APeJHZT+EKKKK4zQKKKKACiiimBdsjiKpt/NUpLwWdo8jAlY1LHAycAZ4r5o8cftb698ZfiDa6V8EtS0XWJdFt57rWrW6Q5EicJbu38BbnntX2+E/gx9Dge59K+J7CfVvD97bWs32e4ngeOOUf8ALNipAP518gXv7JXxZtfAvhTSJL61uk0nxAdVv7g6vKr+SDn5ePnJ67TwM19T/B6/8Q6h8MtEn8V29vaeJJrRH1GCA5jhmIyyqe4B4roNSOdMuP8Ark38jXQI+cP+CYnhHWdE+Acd3e+IJtVsL26uGtbSSFUFgBK3yhhy31Ne0fFj4q6b8JdPt7zVFkFrPIIfMQZ2sfugjrya86/4J0f8mtaR/wBfN1/6OevZNc8K6d4lEf2+zguxFnYJUDBcjB60AS6NqA1fSILkIYxOgcKeoBrj7z416YPiPJ4RKS/2tsL7ei7CMhs/0612VnaQ6ZaJbxqscUS7UUdAPSuG+LPwYsPHehX62sdvp+qXUiyjUQMSwMMDerdQQOlAEHwb8J+J/DmtapJr+pjUoLkk2QR/+PRNx/dn1P8AtUmkx+Mz8aJzPsPhAZ8kZ/eiTHOf9j0roPhT4TbwV4Lt9Lnu1vrm3yXuN2Wmyfvt7nvXRreRjA8xOTtHPU007AfPX7Y/w3v/AB98Y/hXa2GkXFzZnWvteq3qRh4oIoULIknoCxGCO4r3rVtds/Culi4vZktrdCFLscKueBmvnP42/tCfFPwN+0DomiaR4atLvwnq7TwrqMsgSb7Sibki2f3TgjNet+H9Fv8A4v8AwqFl4qhezurwlb62j4CjPKA9x7162PdVYXDwnblSdrO97vW/Z9PkJLVs7PRNetfEdiLmymW4gZiqyKcq2ODg1ejrJ8CeDLb4f+GLfSbIv9ktAVhVzkoueF+grYryBhRRRQAUUUUAFFFFABRRRQAUUUUAFFFFAGLr3j/SfDN+trfXsNtPIu5Fc4LjOOPXmsL40z+JV8NR/wDCKiNtVMo2+d/qtuDnd/T3qT4g/BzS/HviDT9W1OWYSaKfNtSr7VgfqX/LjmuntNRttQOIZ4Z9qgnYwbAPSgD5v/aF+JGp/DH4ifCOTUNNmP8Aad+thc6oyeYttJIMGMqDxu7N0GK9y8JfFXR/FmvXWl2Mzy3llkXCbD+4IOMN6E9qwP2g9bs9OstCt7jU9A06e61aBIBqihhO277sYP8Ay09CK3vC/wALdG8K+IJ9Tsbfyb273GaUMcz5Oct647eleli6kZ4Wg+WzSkr99b/rYzhG0mYnxhTxi2taV/wi2wW24/2kZCOYsj/V/wDTT9MZrqZ/H+laReR2N3fQxXrBR5Tt87E9MDvV3Vrg2mmTyqVUxxs2W6DAzXjfw1sYPjl4vbxJrWn3Okato8nlWKs/JjB++o/ut6da800Oy8S/GqPw/wDE6y8MfYZpLjUPminU/ulXuHP8Leg713qHKCq82j2txL5jQQtISG3lATkdDmrCrt4oAH+7VGT75q8/3aoyffNeDne0TegJXh3/AAVU/wCUVP7Sn/ZKvFP/AKabqvca8O/4Kqf8oqf2lP8AslXin/003VcuS/x36fqi63wn8RFFFFfUHKFFFFABRRRQB/Yt/wAG1v8AyhD+Av8A2DtR/wDTre19qTf61vqa+K/+Da3/AJQh/AX/ALB2o/8Ap1va+1Jv9a31NeHnnwR9TehuxtPg5kplPg/1tePgP94j6mlQ+ff2ivgb8U/it8SvLsdc0QfDmR7f7dot3FuubwKcsY5cYixxwQ271Few/C74K+F/hNdalP4d0Wz0iXWZFmvTbrt+0OBgMfeupK5I4p8S7Wr7Q5XuSnpXz/8AD/8A5SKeNP8AsULP/wBKXr2rx34ysvh74P1HW9Sk8qx0yBridgMkKoya+WPgP+0n4W8cft46lqCXv2D/AISjwjaLp9vd/u55mW5fKhfWgR9e7RVXWrv+zNJuLkIHMEbSbS4UHAz1PSrWeK86k+NCXnxdfwZJpczkoZHu2XNsY8fd3f38/wAPpzQBe+Dvxft/jDYXVzbWVxZx2knlET4Dse52+noe9Y+v/Fe60P4vWvhyDRFktrgBjqIB8q3z1R8Dhz1GOPWu31nVdJ8B2P2u5+z2NuSqPJtCqOwyfSpNF1ex8U2AvLJkmgkJKyBeHx3B7/WgDl/jl8VL74UaBbXtjpMuuPNL5RtYD+/OQcMo6YXq2T0Bxk8VhfGjWdEv/hDp+seKdOk1O0xHM8FmxOHYcMinBYjt3rV+H3xC1XxZ421TTNR0g2drpxYW90ynF3zjK+mOhqL4ffFu2+JXi++0ZtL8pdIZh5sq5jmZWwDHxyPU07gVvhv4H8O6RpI8aRWlzZXV1beZcSvOZZJIh93fjrgDp25rsfB/jHR/H+nfbNJnhvbUPtEyDKMfY96val4ftdR0mWweIC1nQxuifKCp6jiqvg/wDpnw/wBMez0m2W0tGfeIU+4h9h2qbIN9zTn0i3uo9jwxMpOSCgIJqjdeAtGvY5Em0rTpVlGHD26EMPcYrYHSlrSNScfhbQrI5jUfgz4V1i1jgu/Dui3EMT+aiSWUbKrdMgEdfeuf1D9kT4Z6rZ3FvceBvDElvdT/AGmWM6fHteTGN5GOuK9HoreGOxMPgqSX/bz/AMxckex4x4u/4J8/Bzx0s41PwBoFx9qgS3kPkbS0afdXjHA7U28/4J9/Cm5+Hun+F08LxW2i6Usy2kFvcSxeT5v3yCrA5Ne00V0/21mDiouvOy1XvPR+WpPsYdj581b/AIJq/DbVPBmnaCg8S2VlpUaw2xttcuY5EUPvGW3ZPPrVC1/4Jr+H9J1b7ZaeN/idbHzvO2DxJM0efTac8e1fSOKCMitv9Yczty+3k156/mL2FPsfPM37Ct/D4pl1Sx+LnxNszIm0Wxv45YF/dlPush9c/UUa7+yd8Rbq91aXTPjh4q077bbww2yyWFvOLF0xukAIG4tjkH1r6GCgUm3mj/WDG35pST9YRf5or2cOx8veGv2Xv2gvDN1dlv2godWicr5C33hWE7B3ztkFdF8WfAH7Q11qeg/8IV478AW9pa24XVf7V0WZnvJQeWj2P8gPpzX0BikEeKJZ9XnVVSrTptr/AKdwS+aSRPsYra/3s+dvib/w0zo/h3SP+EWHwt1fU/tZ/tH7ZJdW8Zg3ceXhW+bb1z3rm/HHxS/a28NW1sdK+Gfwt16QyyLOV8ST26qgI2MN0JOSM5Havq7YKr397Fp8DSTuscScszHAFbUc9hBJTwtKVr7xet/SS26ETo9pNHxX4s/a/wD2qvCGjaXO/wCz/pupXs0jLqNtpviBJltEDfK6OyLuLDsQMUut/wDBU74k+EviPB4Z1H9mr4gG9uIhLGbbUbKUOoGWI+ftzxX0TrPhTXfEXxVt9W0nWE/sC2Kpd2Mcv+vb+9ntj0712934B0zUb97ua1je6YhhLj51IGBg9R1Ndaz3LpW9rgKbtfaVRb+k+hn9XqdJv8P8j460j/gsp9rsNbubz4IfFWzj0KVYZ8WsExZz/CoWQksO4HStDwf/AMFpvBHiO+s7a6+H/wAXdIlushjceGpGjjIGSMoxJ/KvqnQfhBoPhu4mltLCGNrnmbK58xj1Y/7Rzya4vXvgFp/hzVNW8RLemF7mB42Ux/ubdT0KgdCO5HWrlm2RSTX1C3a1WWn3ph7Cv/z8/A+Ufj//AMFVvg54stbTW5YfHLXHh67Bis5NCurZ9wJ+dT5ZBPHRuMZ74r1Twf8A8FhPgvq1qLW88StBqtvbxzXMYsp0jRWGeGdFzjvXsXwB8EaPb+D57cX1p4mTzyzXskSuZCexyMHHSr3xJ/Z38K/EDR72CTQNDe5vohE0r2iZAHTnHaoeM4fkuX6tUj5+0T7dOT1H7KutpfgN+CX7WXw8/aIlli8GeKdL1+W3jWWWO2ky8anoSOor0cHIrzP9nr9nXSPgFo72lpZ6d9qc4e+itlimuF7ByBzivTe9fP414Z1X9UUlDpzWb/CyN6fPb39ype8PVarN7/rPwqtXwWYf7xI9Cn8IUUUVxGgUUUUAFFFFAFlbZbu3eNxlZFKsM9QRg1zvgn4FeEfhxrb6joWgabpN7LEYpZraERtMpOfnI+8c9zk10tr92rFfcYT+DH0OCW4mwVBqYxplx/1yb+RqxXiv7Xuo+PbCbwkPBiXTWkuqKurm3QMwgx/FnonXJroEVf8AgnR/ya1pH/Xzdf8Ao5690zivk3/gk/4l8e6t8IdRtPE3h7TdK8O2N/Ouh3tveebLqEZlbc0iY+Qg9q+n/Funz6t4cvra3YpPNCyRsG27WI4OaAOW+N/grxF400+0i8N6mmkXMMu+WdmJDpjlNo/vdM9utb7aNNc+EfscgjW6ktfJbLF0DFcdeCRWP8F/CWueDvD0ttr9+dUvDKWFyT99ewx2x0rM8ZfE3W9F+KtlolrpjTaZcrG0t/tOy1J/hPqT29KAJvgt8Lbn4PabeW99rDaub2QOs8+fNB/555z9wdFFQaZ8KLm0+L0viP8AtYvZy5Uadz5MJxjzF5++e/at74ueBp/iP4Om0m3u2sHuCv8ApMZxJBgg7k/2h2rm9b+Fusx/CaDQNK1Z4dUgASPUNx3KQfvkdz60AeU/tM3WseEf2pfhpJ5Nld6PrmtG3jhunLi3kWBmMyHqr4yoUcHkk1638W/Fvizw/wCJdMTw5ZC8spP+QkWiybaPP+sTn5m7bfxqJvFvh/4VfD2ym8a6np4udHlSGS5nYOyzOdqsM8gtu7eteg2c0dykcsZDpIoZW9QeRXbXqc+HpRUbct1fu73/AATF1LVq5e3UnJJAJyMfpUlHSiuIYUUUUAFFFFABRRRQAUUUUAFFFFABRRRmgDK8Z6vBo3hm9nuWdIEibeyR+YVGOu3vivLPg74V0/RvhZrUngjVL3V472VntbiQgZm7lHPWPd26DkCtn4m/FWK18c23hG40+S6h1kCNpo2PlxKfvCQ/w5HT1rt/CnhDTvA2jiy0y2S0sw5dYYxhEzycDsKAPjv9r/4P+P8A4z6f8Mraf+ybnxT4d8RprF5DIoZZLaIjdJAQQwIzwO5r2VL7xJ8ETe+KtfmfWdNmwtvp8MredZqT0RSP3jHr2x0qL4ofDm5+KP7VXw+1/Q/EWnW9v4SNydTtI3/0m5V1ChOP4QeSD7V7hc6TFfAedGku1ty7lBwfWvZzDES+p4bDOSaipO1tVeWz77J/Mzp6ts83s/2ktNe60SyvLK6jvvEab7OJQHjcZIILdAVGMg+uBnFZ2ofCHVfD/ijWfENhqlxPNfRlLewjH7u1bsyZOOf4s/hVnx/rD6D8UrDTofDcN7Y3ojMt+IeNPw5xnjuemO+c1ra7+0N4T8OXUUU+pJulYx8DO1842n0J7CvGNDn/AIcfG3UfDetWfhXxhDPJ4vvpC48hV+zSR/30bPAA7Ng5r2EHdWI+i6Lqd0uoT2tsLpgkoeRQJVwPl56itsHIoAH+7VGT75q8/wB2qMn3zXg53tE3oCV4d/wVU/5RU/tKf9kq8U/+mm6r3GvDv+Cqn/KKn9pT/slXin/00XVcuS/x36fqi63wn8RFFFFfUHKFFFFABRRRQB/Yt/wbW/8AKEP4C/8AYO1H/wBOt7X2pN/rW+pr4q/4NqlK/wDBEL4DZYt/xL9ROT/2Fr3ivtWb/Wt9TXh558EfU3obsaTin2R3Sioz0qTTvv8A4V4+A/jx9TSoXk60+mJ1p9faHIUPEnh+08U6Lc6ffwJc2d5E0M0TjKyKeCDXzZ8EfhN4f+H37ePiLSdM0y2istK8H2f2RXXzGgJuHJKs2SD+NfUL/drwLwMuf+CivjP/ALFCy/8ASh6APfFGFqFdOhWUv5Uec7s7R19frU/QVyvjD4vaN4G1yz0/VLhrW51I7LNWjJ+1P/cT1bHOPSgC9478FWPxE0B9M1JGkspiBLEGwJR/dPsal8H+FLbwV4ft9Nsw62tqmyJGbOxeyg+grlfjL4Q8T+LBp7eGNQTTJYW3XDyOQJU4zHjHU/3u1dzYRtHZxI331RQ2TnBxzz3oA5D4yfEu4+Fei297a6VNqxml8preD/Wc/wAQ9h1PtVTxxfa//wAK9tb/AMM2lqdak2MqbQIsNywJ6has2Hxp0nWfinceEkguG1ayUyzBkG2KM9Hz3B6YHPrXXahZ+fpksMYQb0KKDwOaAMrwFf3d34WsX1PjUnTNwpIGH74Hp6VvpIJFyCCPavGI/wBm7XYfDd/YDxTL597dJPHfYbzrNRnMac42+mfU16n4J0OXw14ZtbKaRJpbdNjSLn5/fnnNAGtRRRQAUUUUAFFFFABRRRQAUUUUAFFFFACHpXPfEZ9Pn8M3FlqV4ljb36mAyMQOvueM4zXRVzHxS+FWmfF3w9/Zerea1kZFkeNH27yvIyfrz+FAEHwb8Daf4A8JR2WlXU13pxJeB5W3EA/7XU/jVf43Xnimz0KE+Ekik1Pfys4/dbO5J659Peuo8O6Gnh3R7ayjdnjtoxGhbqQOBSeJraa80C7ithm4kiZY8Ps+YjjntQAnhiS4fw5ZNd7/ALSYVMu4YO7HOQKd4i0aPxJo1xYys6xXKFH2NtbB681w3gbwP4r0nwNrFnruopqeq3Jb7PcxymMbSPlGP4Svr3xmqnhHW734GeCZLnx3rC3hE21r8A+WFPTcP4cdM96AKfjP4Nav4N8I2+lfD2f+ykErvIkj5iWMj5lUf3mPQ9jk0vwk+GniL4bWd/fanqc1+0tqWt4ZJGlNievlj+8Pc81pfEf9oSDwT4U0zWoNOudVsdVyIliGJeRlX2nnZ3Zuw5rvNM1A32iwXLIu6WISFUfcORnAPegDjvgf468Q+OLK6k8R6YNIuYXCRwAH517SZ/2uuO1egVw3w1+Nml/E/wARanYafDdLPoz+TeGRAoikB+51545yOK7mgCnen56r1YvPv1Xr4zMP94kdlP4QoooriNAooooAKBRQOtMRcs/9WKsVXs/9WKsV9vhf4MfQ4XuFVtS5026/65N/I1ZqtqY26bc/9cm/ka6BHjH/AATvG39lrRf+u1z/AOjnr3CvD/8Agngf+MWdE/67XH/o569ruHKKcccflQBIelc/pfxA0bXPEMmm295HJfwFhJAPvR4/vDt7VzPwr+JuveKPF2qafrGm/YrW1LfY7nYwF+oP3xn7uOmDWnY/D3w54F8Z3GveYltqmqsVmmkl2/aD1CnPoOlAHYH93/SvO7H4deIYPi7LrTamf7FlYhdO3nEZxjzM+p9OldR4y1eefwbc3WjMbi5MW62MAEnmN274xnrVL4R3niDUPCnm+JoBa6s0jebCn+rQdgh7jHegDy79qT4X+ErSO98QeKdRmtor2H7GrkfuY+PlBH97djDdavfsxftL+HfiF4R8O6Xa61a61qs9uUD2qnZKIyVZxnnC4AOec16n4y+HukePbWOHV7KG/hjJIilG5Mnvj1r56+AP7M3gz9lP4++Ibe21DRNO0/XrlL/Q9MmvR9rgmfIm8tCAQjE9ASK9nC+yq4GrRk3zxalFWun0l5p9fkYzupKXQ+oQcilpsRytOrxjZahRRRQAUUUUAFFFFABRRRQAUUUUAFMlp9NcZFAHnXhz4rR6/wDFPUPD76MI5LFfMe9Zf3c5HQIccsO/pXoMj7ovTApi6bDGdwRAwJO4KM1xf7Q/iqPwt8INYf8AtGTSZ7qI2ltdIjM0M0nyocKCfvEc4rShR9tUjSXV2FJ2R8r/ALHVx4fsv28vjV4pmvbmGR7qHSoRcEgXLjJYRJ04OOR1719jav8AEvR9A1mLT7u7SG8mCmKJvvS54G0d68m+AX7H9l4T8AaC/iX7Pf8Aiq0zdXF7bkhXuGOWkHAySOCcV1fxE0nwVffEnTJdZvBF4itFU6epYh1yf+WYxznvivX4gxdPEYxuk7xilFPuopK/ztczoxcY2Z6PJCjrn1rz5f2YvCn9s3F7NZG4ku5DNOJHJWWQ9HI/vDse1V7L4u6q/wAT73R77TxZaHDuFvqkisqXb8Dyxn7pXPU8HIx3o+EUXidPEur3euX0V5pKlhYLBKH8hQeVkx1f3FeIalr4g/BWXxj4m0a/ttRksY9GC7YVJIusfwy88qO3vXfxgqgBxwMcV5L8Rvi9quu6hbW/gB4dZuImI1KMLxbR5wTntIOcKetep6SXbTYDIWMhQbiwwc45yKALD/dqjJ981ef7tUZPvmvBzv4Ym9ASvDv+Cqn/ACip/aU/7JV4p/8ATTdV7jXh3/BVT/lFT+0p/wBkq8U/+mm6rlyX+O/T9UXW+E/iIooor6g5QooooAKKKKAP7Fv+Da3/AJQh/AX/ALB2o/8Ap1va+1Jv9a31NfFf/Btb/wAoQ/gL/wBg7Uf/AE63tfak3+tb6mvDzz4I+pvQ3Yw9Kk077/4VG3SpdP8Av15GX/x4l1S6nWnFgBTU61W1vShrOlXNq0ksS3EZjLxNtdMjGQexr7M5TA1T4z+G9H8SXuk3OsWMOoada/bLmB5AHih/vkeleLfBfx9ovjz9vDxNq2kala31hqHg+zNvNG4Ky4uXBxVpP+CeOj6drmualZ+KPEYvNd082Us11It1IhI2mQMw67QBg8cV51+zr+yjoHw5/bem0y5mu9XuvCPhG1ezvJHMTF2uX3MyoQp/KgD7OJ4ri/Guh+FtU8S29xrYtJL60TdbfaH5hyw+ZB2OQORzXaKMLXF/Ef4OaZ8Rte0vUL55/tOjSeba+WcBWyMk+v0NAG3deLNPtJGtTdRLc4AEW8byT0wK5T4PaV4vsdX1J/Et39otpHzYKp/1UeT8r+re9Xdd+Cum674/svE0s1yNT0/AhKnChe6kd81peHvirovibxLdaRaXPmajY5FxDt+aD03eme3rQA7WNH0fwvDdazHp9qby2ElxvACyOdvzfN7gVT+EfxbsvjFocmo2EM0NsrmMeaMOSOuV6jmsDTvg7qkXxXvtbvdQF3pF35iJpjFjFCCuN49WbkEdPStLXviTonw08X2mi/YzHqGskeQIIwBMRxye2B60Adfr2rxeH9IuL2bcYbWMyPtGTgday/h78RtN+JuinUdJkM9lvKJNjAkI64rU1DSodZ0+S2uk8yCYbXTP3h6GoPD3hHT/AAlavFp1rFaQu28xxDaoPsOlAGpvHrQDkV5p8Zte8QXr6dD4OurSS8aVluFdxt8tSN+O+8dv1r0DQ/MGl2/m7vN8sb93XOOc0AXKKKM0AFFJnNc/4w+KGj+BNQtbXUrnyJ747bZSufPbONq+p9qAOhopsUnmxhvUZFOoAKKKKACijNNZ8GgBT0rzzwn8aJ/E3xO1Dw8dMkt4tOLA3j/6u5IxgR+pGefSvQZJAikk4AGc1z+q+OPD+jCJ7m/sId+SjFx39+3SgClF8adHk8fN4aVpf7WjG54dv3U/v59K6W/1OLTrCW5mP7qFS7EDJAHWuI8V/DPSvGukXWoaVHDBqd+mY78ZEig9wev0HSrfwx8BXXh7wHJomqapJqssm4G7LYmmRu59D24oAux+LLH4neGdRXQ7xLj92Y1mjYhVcjsw7iuc8I/CK4svBtxZeMbv/hIsSee0suSJABwpXpx+uK39A8K+HfgjpEi23l6Zp00m5gzYjRz1PoM9615Nf07XPDv2kXaCxuBsE27aDnjg0AeQeBrm68RfESP+xLyK88GacfJa3X5pIXKkEbj0TsU+ldj8YfhxrPjTStPh0DUm0Y2zlpGQkCVMYMZA7H17VA58J/s4+GbnVbVDFpNxOq3bwt5gVzn58DqSeuK7zwvraeJPD9rfRKyRXUYkQNjOD0oAoeEPBOn+G7e3a3sba1uVgWKRo15PcgnvznrW/SYpaAKl7/rPwqtVm9/1n4VWr4zMP94kdlP4QoooriNAooooAKB1ooFMRcs/9WKsVXs/9WKsV9vhf4MfQ4Xucn8XPjLoXwU8Ntqmv3qWVtyELAkyMASFGO5xXhB/4KL22rfDvQNSi0FWm8S6x/ZMds18gdUbpIOPmODyvavprUtIttXg8u5t4biPrtlQOM/jXHa78A/Bc1hC7+FtDZ9Ndrq1JtE/0eXk7144bPeugR5R/wAExfiPaeLf2e4dMggv4p9Hup4p2nt2jjYmVj8jHhvwr6MuGIU+1eI/8E6xu/ZX0Q9/Ouf/AEc9e23kiQW7ySECNFJYnsKAOG8IfGyx8aa3q9lBbSx3Ghq3nh8AEj+6e496wItQ0T9rnwrfWDxXUGnWs4SU/dd3XqAeoAPcda7zQ28P6y8v9npYTv5e2TylGdrdj9aoePtQi+FPhC61TS9Mhkmi2A28KbWuAOAowPvY6UAadqlr8OPBcX2ib/RNLhVGlK4+UcZIFcJ8RviL4i8Qwabc+ABDqds8+y8lPMaxAjcyHu3p2ro/C+q/8Lk+GQl1K0azi1RGSW2DkPGucbG4+9jg1o+E/A1h8NvDEljpEZtbSJWaGH7yw+yj09qAN20LHT4y2d+0Fs9c4r5a/wCCg3h2z8NeK/CvxKTwvf8AiLVvARkvF+wL+9jg/j3D+Mf7PXNeufCn4t6rqs2rN4pittISycJEuf8AWJ2kJ7Ej+HtXf6brFh4ohl+yz295Gh2OUIdckdPSuzAYyeFrqtD0fS6ejXzWhMo8ysZnwp+JWnfFjwDpXiDTXJtNVtY7pFcbXjDqGAYdQeelbsOqW1zIEjnidjnAVgScda+Mtc0XXP8Agn3+0d4w+I3iDxBPqPwl8XTI80LMQPDsuAu7b08vgdOmele5fs++FbHxDrj+PNG1aS/0jxHG0kMbp+7Ck5V4ueAe/rXdnWWRw3LiMM+ejO1pdE7XcX5x2f37GdKbd4vdHsdFGaTcK8U2FopN1RXk/k27sCAVBOT0oAmorz/4SfF+8+JGs6tbT6VJpq6ZJ5SvITi8wceZHx9yu/HSgBaKKKACignFZ+teKLHw75RvbmG1WYkK0rbVJAz1+goA0K47416b4j1Xwe0Xha6Wz1jePJlf/Vp67h3HtXV2F9HqdnHPCweKZQ6MOjA9DXOfE/4saT8JtNgvNZkeC1nk8lZFXI3nov40K7dkBja14g8QeCfg5BctEb/XbaJTJFnd9ocdVz2z69q+PPhR+0Tq/wC3N+15aNdTX2l+AvBaRj7KrmEajq6yPkKBzLEinBPTIFbvjT/gob/w2T8Trn4L/Cg6rp2uyStHrGviEeTpdoOHeMnhnPQele4eD/2efh/+zHoHheC5ubhJtEt1tbK+upcyOw5bJHVnZiT6/hX2f1SeR4eUsZTtiKsfcT3jF7z9XtH5vsccv3rvB6I7H4ifGG78CeM9L0mLTjeDUmVfOTO22ycZf0HofWtjxR8ItJ8Y+KbPWb1JX1GwwbSVXx9lPfb6Z7+tdBBawX8S3CoP3iAgsvOOtcdo3xytdW+Kl14SSznF5ZfNLMTiLbjjae59u1fGHVG9jF/aW8ZHTbK08Py6dNf2fiEfZ5Xh6243AFn44TB69jiu0+HPgSD4feCrXR7WV3trZNkRY/MinoM98eprMvfjBobfEn/hE5RJ/brxiQQGPO6E878/3cjH1rJ8HeOfEuqfFO80u704waDb7jbXoQ/6Uf7uO2PXvQUdB4D+Duj/AA6ur2fSoWhl1KQzXbbs/aJD/G3q3vXVKuxcU+P7tKRxQBG/3aoyffNXn+7VGT75rwc72idFESvDv+Cqn/KKn9pT/slXin/003Ve414d/wAFVP8AlFT+0p/2SrxT/wCmm6rlyX+O/T9UVW+E/iIooor6g5QooooAKKKKAP7Fv+Da3/lCH8Bf+wdqP/p1va+1Jv8AWt9TXxX/AMG1v/KEP4C/9g7Uf/Tre19qTf61vqa8PPPgj6m9DdjD0qXTjl/wqI9Kk077/wCFeRgP48fUuqXk60+mJ1pxOBX2Zyi14D4J5/4KJ+Mf+xPs/wD0pavaU8YabL4hk0oX9qdRiiE723mjzVjP8RXOce9eG/DLWrTXv+ChXjGeyuYbqD/hEbRRJE4ZSRcuCMj6GgD6GAwK868V+A/Euo/Fqw1ay1MW+hQBRdWJY/6Y3Zs/w7fT+LPPSvRqayCgBjDctchJ4C0f4eyap4htLSFNQaJ5Jpnfb53fDNXT6tqA0vT5p2VnEKFyq9SBzxXO/Dr4qaR8X9MnuNLJuLSGTyXaRMKWH3hj2NAFb4LfFyT4vaJeXp02XS0t5jCkU5/enH8RHYHt6isX49wG+01o9Gm0yLxOHiMT3DqPJG7gsDzj6VL8ZfCXizWdSsW8KX6aaqA/bSRxcR8fIPRiOjdvSrvif4Jab4t8VaV4gv5JhqOkqv2YkjER/iz/AHs+/TtQBzvgnwB42XxrZ6pqWqAafEALmwMpYySgEGXcP0X0r14sDFWJ4l8Yab4K0s3upXIt7RW2vKx+VPqe1cR8LoPFetfEO61m41L7R4Ru1LadbEYeEerHHzA9vSgDY8G/A2z8J/EfVPE0d5cS3mrn9/G/+qUD7uxein1I6967qaVbaNpHIREBZiegArzq28PeL3+NEl+95/xSZPyWe794su3Bkzj7n+z685r0W4TzoWXOMgigDz/4p/tB2Xw/0uC5sYk14yMA9vZyB51U9GCjqB39BXT3fiSaf4ePqsCp57WX2iNQDIu7bkDjk/hWD8MfgRpPwp1PUrrTy7vq8pnufNAbfIerD0z6DiqOr+OvEelfF610S30vf4ekCeZfrHgQMQf3eO+cD5u1AGj8E/Her+PtHuLrWNOOk3KSbPsrKQyDHUk8HPXjpWt4w+G2jeNdStrrUrVJ57MfuHY8wnOdy+h9634otlcB8XvhZq/jzxFpd3p2sSaXBYczxIxC3w3A+W/ovHUc0AegRKI4gB0AwKDIPUVAgD2Pl5UsUxgN7V49p0Nz+zbPqeseJtZutS0nUZv3OcsNMBPEQGeV9zzzQB7SOlVdS12z0coLq5ht/MJCeY4XdgZOPwpnh7WU1/R4LyNWWK4QSIG64PSuR/aC+HGn/EnwJNBqjP8AZLQm52IxXzGXlRuHzAZ9OtAHafalvrDzIGWRJFyjKeGB6YNeHfBPxjq1v8d9b0DUZ7i7dFaRYi3yafHu+UA/x7vzFdj8GviZLr3w5lur+wuNNTSlEJimX98FVR8zADHPUY7VufD/AFvw347L6no8VtP5ErL9qSIDcx+9hu/vQB1DxeZCRnGRjp0ryW3/AGWPDl6NShu7y4v4NYuftVxC8vDSKcjbj7qj+6OMivXSeK8x8O/CGDwB8VNQ8RyaxubVQ5NnKQIYB1zGM/KT/Ee9AHW2V7pXhvT4tJOoW6yW6iBElkG/kYUY6msP4OfCW8+G2o6pPdavLqg1KUyoso/49ASf3ac/cHYVU8Y/CXRtX8dWvjiVp5dS0mA/Z2jIKiPHzDb0OfU8+ldB8LfinpXxY0eS/wBIkeW1ilaEuy7fnHDD8DxQBa+IvgTTviR4bl0vVA0ljMR5sYbAkH90+1caE8NeKPAF54N0zUDPHY2xjkiRv3sMa8bST908YGaseKPhhq958VYfES609vo9qFM+mhm8u4wD+8bn7w7Doe9WPhv4N8JR69ql7ozrcXWp/vL9xJv+0E9398cfSgDF/Z7v/D3j/wADPpVpBdXWn6FceUPtqDKyDIK/7WP73fNepWFpb6TaJbwKkUUQwiLwFHoKytZl0j4caNNqDQxWdrEqrM8ceNqA4BOOwzXCeKvDF98ab7Sdf8Na41jp0DHzFXds1NA33T/s8ZBHNAHrCnIpaZCCsSg8HHOKfQBTvT89V6sXn36r18ZmH+8SOyn8IUUUVxGgUUUUAFAooHWmIuWn+rFWKr2n+rFWK+3wv8GPocL3Cqms/wDIMuP+uTfyNReIfEVn4X02a8v7mK1t4ELs8jBRgDJ615Tqn7bPgIfCuLxLPqb2unalqKaNbebHtea4lYIgC+hJHPpXQIo/8E5X3/sp6J/13uR/5Gevbr+3+2WUsWdvmKVyO2a+ef8AgmX490PxD+znaaXp2rWF9f6Tc3CXsEEyvJasZWIDgfdP1r6MoA4/4XfBrT/hQ99/Z0k7JqD+bKsjbsyd2/H0rrZoFnXDKrYOeRnmn1wfxm+Kl98NIbFrHTJNVe8co0cecxD++f8AZHegCD40HxXZHTl8JW8b75G+278BEi/iYf8ATT0HrXW6Zq8a6HCxcSyiHcVyC7EDngd6IdehOlW73M8Eck8PmkFsA8ZOM9q47wD8C7fwp4y1bXV1Ce7Gtg+bAxzFED08ofwZHXHU80AcTo/hzSP2hfiXe+INL1e8jOnK1hc2/lYhVsEMGB6yD17CvS/hN8MdM+CXhltK015I7AzGSNJ33bWbk4J9T/On6dF4X8BaxJb2y2en3syIGjHytKCSFOO5681yPxQ8cwePfFc/w5kt54JtQRXF8v3Io+pIPaTjjv3oA6n42fCnw1+0B8MNW8MeJYLe/wBB1SNre6jZhtI6dfUH9a8OufFl1/wTw8HeGPDei+FLjXfhraTwaXFeWlx5lxpYdsGSYHqm5lAxzzXtWjfCCPQfhPJ4UguN8GxolndNzlWOdzer/wC13PNWPhV8LYPhV4M/sk3L31vHI0vm3A3SPnn5yep969TB5nKjT+r11z0r35LtK9rXVtn5kOnf3loyDxj8fdB8G+GxqtxdRzWPnrbySQMJDC54AYDkHPFZPhDWPGOtfEbzru2ktvCkimS2L7fOLFQcOM8L6d815PY/8E/PDPg346+I/iN4B1ORNR8QW8t1eeHrmczaTe3Tg7Zihz5ZLckr1pfhh8efitqnxNv/AIc+Ivhk3hrTLDQfOtvEVpeF7OW5AXKJkZVQScZ54rrqZPSrKVXL6ilGMVKXNaMl3STfvW/u3v2CLa+I9f8Ai54b8V6v4g0qXw7fJZWcTg6gHb/j5jz9xf7p9672GVI7ENJwgX5sngD3rzL9m7xHcav4Bmn1LXrPX5Ybh4pNQhkAiYg4K47EdK7PwZ470j4habdtpV4k629xLaSMARtkjO1sA9cHvXiyoVI3unpuWXtH17StVm2WNzZzMqBiIXBIUn2qbWvFWn+HSn268t7Xzc7PNcLuxycZrj/B/wAOfD/wLudQvVvPsp1ubzbpppPlmm5O4Z6cdh6Va+I3w90r44eGra2vJ5JNN3idRE2BIR90568dayA7Cxv49Rto5oXWSKVQ6OpyGB6EVMzbRXl/gP4oahc/E1/Ch06RbHTISo1J8hLraAAq8feHftXp00qovJAzwMnrQByPh/41aZ4m8e33hy1juTqWm83SlMLCP4ST/tdq5z9rTwSfHPwse3Wyn1RoZ45UsYmK/aWBGFLD7vPOenFYPj2yuk+Llung0ab5tud2ueW6m6iVznjnO4/7XGOlcb8Uv26fEPhP9oF/hro/w81y6u5liFtrl4dmmsWOGJbr8uc++MV24PL6+Km4Ulsru7Ssu+tiJzUdz2rwV40/4Q34L2+reKJ1sP7OtS9686+UtuEHIOfTGM96+ffiZ+0he/tHx/ZtH8PPpHguS03r4o1y3eK3k8w7c24xkttyQx9vWuxl/Y31T4yRyn4seL7/AMT29zGqS6PYA2Wl/K+5TsB3MexycEdq9i8WfC3RPFPg6DRL2zVtHtFQLaLxGyIMKpA6gcce1ejTqYPBR5o/vavfXlj5rrJ+tl6krmltojzv9nP4G+Cv2YfgpayeG7F72LT4Gla88sG6uQ3zOxY8nPJrqNOj8K/tP+GbXVBE9/paSN9lkcFVkYEfvFHsRwfrVnwXrXhjxhpE3h3TZDdW9lH5VxbszExDONjHrn2rI8ZeNv8AhT3iGz0rRdCWSDV38yR4FKx2jFsF3A4Cn2715mJxNbE1XWrycpPdsqKUFZHolze2nhXSA91cJBbQKEMkr4AHQZJrgPiZ8XvD3w30+LWEtYdRjkuWhaa12s6yn6dfc9q7Txb4Zi8beGrjTblz9nvojFMF/iU9R+Ned3V14V/Zu0PSPD9xC8trNI0GmLIgkKFuPKBPPQ9TXKyyj8RbrUtP8QaBrOg+HodQvNSUS3s6J5jWSEKBIHH3sAkbB1zntXsCXaWmm+fcMqKqbmdht28ck+lJpNrHa2ESRRpCioAiKoAQegrhdX+McV98SpfBP2W4S8niLLdJgxLGeCc9N3+zSA7bRfFFhr8kiWV3BdGLG8xOGC55GcVonmuP+FXwf0z4PafcWmkealtdTG4kV23EyNyzZ68muwHSgCJ+BVGT75q9J0NUZPvmvBzvaJ0URK8O/wCCqn/KKn9pT/slXin/ANNN1XuNeHf8FVP+UVP7Sn/ZKvFP/ppuq5cl/jv0/VFVvhP4iKKKK+oOUKKKKACiiigD+xX/AINqlK/8EQvgNli3/Ev1E5P/AGFr3ivtWb/Wt9TXxX/wbW/8oQ/gL/2DtR/9Ot7X2pN/rW+prw88+CPqb0N2MPSpNO+/+FRnpUmnff8Awrx8B/Hj6l1S8nWquuafLqmmXFvFPJavMhRZox80RI+8PcVaTrT6+0OU+bNA/YHvPDXxB1rxF/wnus32oa1YfYmurmBTcREjaWVhjjaBgY4OTXlf7In7GunfAr9s+68PDXtc1M+E/C8NzFctcGM3TS3kjnzVHDYyetfcr/drwDwEf+Njvjf/ALE+x/8ASh6APf4/u0rHC0tIw3LQBwPx5vPEFv4UX/hHLCPU72V9jWsnEciHrubtU3hjwSll8NZFs7RLHUr60HmiIeT+9246dsf0rthH8tUfFGqf2D4du7wBc20TSYbocCgDzzwbd3vwE8D3l5451n7ZH56l7452RIRgZH8IHQnvWT8dvi+NV8GWFtpVtczReJl2W93GDm25AEjY5C981NceLbz48/CTVZG0KW3uredVtrKYbndxggyKeNhP6V0nwT8OX+l/Dq1t9btIoL+IskkSKPKiGfux/wCx6UAO8IfBm3X4dwaJrj/2xGj+Y7yMT9qJHV/U/pXX6Jo0HhrSo7W2XbDbrtRSc4A7VW8S6rJpPhe8ntMPcQws0KBd29gOBgdawPhB4t1rxd4fmuPEFh/Zd5v2m1I/1Yx6980AM+G3x3034oeINV07T4bhJdEkMN20i7QsgPRf7wx3HFZHj7TtX8Y+PtKn0HXILeztm/021E3zXYDDK4/hx6/hS/FXU9S+Hf2KbwzocN7POrxTxxxbdkfXeW9s9O+a4r4IXdhqGreJvEel/wBox6wbdvtbTpmOWUdNkfcDpkdaAPdtT1FLOzkBkVHWIsO5GB1Ari/gtrfinxDd6m3iWzjsoYXUWAQf8fEfJEpPZj3Xtj3rgLqe++L1jBL4uu/+EQu9LnMsVuPlM6DH3mP3kbuvvXefFj4v3Pww/shLTTv7UW/XafKz/o4+Uea3pGM8n6UAejVFdDfE44+736Vx6fG7SovHNv4ak87+2biMSpCqZVkIyXB/uiuvucywMPUY5oA89+FPwxn8D+LL+9k1n+001EF0heQn7J8x+WPn7tdl4k0XS9fjEOpQ29wqguElwR9cVw/w7+GkXwn1rWdRfWW1B752laGZwPs5+95cY/hXHb8awJZIP2utNjnsZtQ0O30q4IZj8skzg/dI/uH8iKAOu+KvjG/+Fngq1k8NaP8A2xIZBHHZREhmQ9WB6YXqfak0v45aXJrenaDfsE13UIVlFqEP7xSMlhn+Ed67XTLD7DpkEL7GaFAmQMDgdhXK+KvDfhbS/E1vrGppZw6kX/cXEp2spUdFPbjtQBi+JfHmqXfxQ/4Rc6MZNDvVUS6imQseV/1Z46n16YrsPBvgTTfh9ZyWulW4tbd3L+Up+VT3wO2ap+PvEt1pngWbUtHjW6utiyWyBC3nkkYH4+tR/CPxNqvi7wkt5rFt9i1BnYS2+wr5Jz93Pf60ASaL8XNH8R+N7rw/aytJqlhk3UIXmAdi317VU+Lfwht/ixFYx3dzNbw2M3nr5PDs46An+76jvV9PAei+FdYudfgsEj1BwzTSxj95Nnkg+tYulfF+D4o+DNXu/CzTzT2G6FG2YzOODHg+h60AdRNp6R6L9lkVZYVi2OANoYYrxFvjBc65qMtn8MdGy1nd+RrG6Ly4oCCAzr/eYdscHPWvUfg3deIdY8NyN4qhSDVC5EkKcxKO209xWf8AFT4e6t/Z1qPBn2XSNQ8zEs+MIYgD8pUdc549OtAFHUvEPjCf4lw6ZFZf8U7LGiz6h5f7yKQqflC9we57VkXt1p/7Kuow22nabqF+mvylpSjb/LlJ5kf+6pzyeleteF7ee18PWiXmTdLEolLNuJbHPPeqniTxRouiXax6jcWcM7plRMQCwzjjNACa/olv468Omyvo/NtrlVMqBuHHB2n1FWfCPhaz8HaHFYWEIgtISfLj7RgnOB7VdhC+SrJjDDIx6VKnSgB1FFFAFLUj81Vx0qfU/vVAOlfGZh/vEjsp/CLRRRXEaBRRRQAUCigdaYi9ZD9wKmqGy/49xU1fb4X+DH0OF7nM/E74Q6B8YtFXT/EWnx6jaI29Y3YgBvXgivNPEP7B3w1uvBNnpVxon2qx0a8XU7KKaZmFvcIwdHX6EDHtXuNUdc/5Bk/+438jXQI+cP8Aglx8GPC/w/8AgRJrui6HY6dq3iW9uJtTuoY9r3riVgGc9zivp2vC/wDgnN/yaxo//Xzc/wDo5q90oARhkV5tJ4L8UH41/wBp/bM+GuVNkX537f8AWfTtt/GvSqTHNAHC/GD4Mw/FqGwimu5rNLGTzl8nguw6An+7xyO9VLz4xjw38RLLwi9hK08sQK3UY/cKAOhPZvQd6n+NvirxR4ak0z/hG9NbUjcSFLpdvEEeOZAfUdl71jeOfhz4h8SeMtG1LT7uOCwiVHv4Gyr3pHT/AHSP/rUAYGjeBdY+JnxqOreIrWezg0E40edRjzxk7mYdvTB+te0f2bamYSGCEzZzv2DdnpnNTSXCWcAMrJGBgZdsAH61518W7rxbqGs6a/hGSOSyVtupN5gwU3ciP0egDY+MXxCvPhtoEd9Y6fJqkhkCfZYwfMkB/u/Tr9KtT+O7fT/hvHrWsSJYwSwhp5GB2Qbv73sO9dBE8RtV8wrlFz85GRXz58U9T8YaVf3iarokniHw1cylbTTUOZJhnJ3gcFR1+gNAHoH7PPw9sPCVteatp+qTala65/pG6RMYOTynonoKh+LF5dfFBYdP8Ia5bQanC7POQ+dsYJVkZffpWd4g0rxTa+EPDS+CwtvbGINdoThY4TyVQHkOOgqb4P2vhax8eay+iT3Umuyxn+1w6ElJBjb5no2OnqKANTWf2dND8afBuXwhf2b6fp98oNythMYHL5yWDrg5J5zUfgD9l/Rvh343t9csbzV3mstKTSLaCa5LQRIuMvt/ic4GWPJqv4a+J3iq1uteuNb0rydP04M1k2Nv2xB/ET/CfQd66z4Q/Fa3+LvhddUtraeyjZiohn4lXH95eq/jXXHH4mNN0lN8r3XqJxTPDPj5+zb4t8VXWlnV/islroYkY3dlcWKrFdfOXXDg5UqvHvivTdc+HGueLNO0FNE8Vvpnh+2hVpzDDme6K4KkN0A4545re+OHgvQ/HXhA2viFyNKRxJMN21Tjpk+xwa5bxH8Yz4J0fS7bw9H/AG/abfszywgv9nAIXzGI4KjvWk8yrTlGUlG8dvdiv01+YuRGN8OfAus6v4muJNR+Iz6tPBPcywWtjbLCIIZF2BZRySyHkHjJrlNY+C3iu116xn8Ra/r+peH/AAbO1/p8qXIgnv5E/huMcFDk7RXtXgH4P6Z4J1y+1uzaX7drih7xi3Ez9Q2PYcfSupvLNLuAxyorow5VhwaTzLEOXMml6JLy7eYuRHjfw60PR/GFh4k8eeFdCk0fxL4gAilmcYuJ2ThfMU9P8K7H4QaNrt34cZvF1vA2t+YVldVBjI6jYeuP61d8K/EnQr7xbdaHYt/xNICWuoVjwYSOhf0z29aytabxh/wt+zNod3hRiPtS7gJt/ONv+x6/hXPOtOo7zd+nyGopG18V/iGnwn8FyaxLazXcVuwDxQjMrA/3R3PtWl4K8SDxv4TtdREfkpexhwhbLID2PofUVq3tlFfRKJY0kCncoYZwfWuD+JPxdt/hBqGm2P8AZrTrqjlIzCcCN89XH8K89axLRt+Evhdo/gjVru90638m4v8Am4bcT5xznc3qfesH45/EO/8Ah7a2T2Gj/wBrm9LQyInDxDH+sJx90d/wqv4t8GeKda+ImlanYXyW2hxmN72zDkm79we2P1r0hrRZOSqk4xkjtQM8Y8E+DPGreE9ZW81NLq71GENpskVx/wAegJyAfXHXPfpW94M+E11H4QA8VmLWdZtBIftTjfuJ5DKv8P0q58Pvg7qPg3x/qWrzaqbu1v8AdssyDstOc/J9e9d1d3qWsLnhtoyQOT9KBM4P4JeIvE/iKbUB4jsF00WzLHZxoMiaIdJCexPp2xXbnRbb7V5y28Xmbt2/YN2fXNZHw/8AiZo/xGNy2kTfaRZsIpnC8RvzlCf7wxyO2a6agQ1BhaU9KWkPSgCN/u1Sm+/V1/u1Sm+/XgZ5tA3oDa8O/wCCqn/KKn9pT/slXin/ANNN1XuNeHf8FVP+UVP7Sn/ZKvFP/ppuq5sl/jv0/VF1vhP4iKKKK+oOUKKKKACiiigD+xb/AINrf+UIfwF/7B2o/wDp1va+1Jv9a31NfFf/AAbW/wDKEP4C/wDYO1H/ANOt7X2pN/rW+prw88+CPqb0N2MbpUmnff8AwqM9Kl08Yf8ACvIwH8ePqXVLqdafmmx1V1wXZ0m4+wmIXZjYQmX7gfHGfbNfZnKWnb5a8A8Bf8pHPG//AGJ9j/6UPXJy/A345X3jTxVq174j037Rq+jGzsms53S2s5SMDEbdwctu75x2r5stvjRr/wDwT8/ab0OT4m6v4jnlm8LQ219Jpmiy6mmpslw7bWlXJQgHP40AfqBRXwR8VP8Agvr8PvCmh2k/h/wf8Qdeupb6GCaH+wLmLyYGbDy5Kc7RzjvXURf8FyvhE8YP9l/EHpzjwzdf/E0AfZ9I6CRcMAQeoIr4xb/guT8ISP8AkGfEH/wmLv8A+Iqvqn/BdH4TWemzyQ6R8QZ50iZ44v8AhGroeYwBIH3O54oA+01tUQnAAz6Cm3TraWzyNnbGpYgV8UeEv+C7nwp1jw5Z3N/oXxB0+8mjDTWzeHLpjC3dc7OauX3/AAW9+Dl9avG+n/EDa4wceG7of+y0Aez/AAbsofFPxS1jxJp+uy6jZCRomsGVhBYv32ZP3zj5h9MYr0/xrY3GreFL6CyO27kiKwMJPL2v2O7Bxg18YeD/APgsB8CPAqTjS9E8e2q3JDSKnhu6w7f3j8vU9zRoX/Bd34X3+v6vb3nhz4gWdpZyqlpcf8I9ct9sUrksBt4weKAPrD4OeGNf8IeEGtvFOpJrOreYzT3qjalwp6EJ/AAOMe2e9bukyaVJe4sDY+aqciHbkLn27Zr5Guf+C4HwgntXRdP+ISFlIDf8IxdHH/jlcF4N/wCCvXwS+C095d2ln8SrxtYuFNx5vhu5+Vyeq/LwPYUAfcXxE+EWlfFOayOr+c66fIJoFRtuyQHIf8PfitrT9a02+uEto7q1uJfLIChgzEKcHj69a+IB/wAF8/hjc6lpC2vhj4hz2F8ZRdXX/CPXOLQKPl4285PFZPgb/gq/8FPAXi/VNct7b4jyXOr5e5VvDNzt3ZyCo2/Lx1A69aAPrvU/GPhSD40w6LPp3/FRuVmhnxj5QOobPA/2f0rR+NHjHxN4dsrF/CunRatLLLtuI2Hyxx933Z6r/d71+fWq/wDBV7wD8UdQ1e21iy8babAZxJZ6hb+FboXLAdGLbflYdK9Htv8Agtn8Mvhz8JntNM0fx/rGqadakW8Q8N3SfaXHTJK9+5oA+srD4HQan8RIfGU15M19NbiKW0aP/R2Urgkpn7/+11xxWn4++JOifBiWze+tzCl+wt4pIYx8z9FQgf8A6q+QPhJ/wXd8Ca5oclx4j8NeOdKuVfy0t08PXTHA6tnZ0PatzV/+C0HwR19kN7oPje68v7vm+F7ltv0ylAH2PqlxPe+F5pbdZUuJLctGqEbwxHGO2a8P8B2Z/aG0y+8N+PLn7ZqGm3fmXFpZ/u44Qv8Aqwx+8G6E88n2rxfxb/wXg+GHhm3tk03wz8QL9XBjKp4duV8r0P3OlcJ8E/8AgtP8MJdA1DX7/wAC+PfCfii5mnjaE6DdTfaFDHZIzBOdwwR6ZoA/RWzs10zS4bdWZ1toxGCx5wBjmsXxB8V9B8H6c13e6jbpbr/rHVtwjGcZOOgzxXxr8Nf+C6nw71zR57jXtD8c6dcSSssdunhy6Yqg4yTs79foa5/Rv+ClnwCtNY1G5urD4hahHqj+ZcwTeGboxs+cjA28D2oA+0Pir411O4+GsWpeFrBdZuL5lEdpMDGk8TDnc38HHOa2/hNodtpPhqCWO1gtbq6hRrlI4xH82D1X26Z74r88/EP/AAXA8O6V8YbbwnoXhLxzF8P005C+qy+HrpnSYsR5KptyRjqe1dv8If8Agrn8KPhbZ30M3/CxtU+1SCRZJvDV1vj/ANgfL90dqAPs34wfFAfCPRItSewmv4XlETpBzKM9CB3HrWf4H+P+neM/FSaCIJYdXNuLqSIEMiRno2/ofw5zXzdcf8Fuvg7d48zSfHr7TkbvDNycH/vmuc17/gtX8IfDGs6RNpfgvxvdS3N75V1Onhm4ja0hZGJk+5z8wUY/2qAPtj4kaVqOt+C7210qY22oypiCYPt8puze+PTvXi3xK8NHwb4Q0K58ci68RalZXJKS2bYYy5yJVTHA9RyAPWvOB/wXI+EWf+QT8QeP+pbuv/iaiuP+C3nwdu3HmaJ49faCAW8MXJxnr/BQB9i6Be/2jodpPx++hV8Bs9R61fT7tfEet/8ABcz4T6XoVzJZaF8QZ57eB3gt18N3KiVwpKpnZxk4H41L4e/4Lp/CnUNAtLi70P4hWlxLErywnw3dN5LEcrnb2NAH2xRXxj/w/M+D/wD0DfiB/wCE1df/ABFH/D8v4Pn/AJhvxA/8Jq6/+IoA+wNS+9+NQDpXH/AT4+6L+0z8MLPxboEWpRabfO6Rrf2j20wKMVOUcAjkV2NfGZh/vEjsp/CFFFFcRoFFFFABQOtFFMTL1kf3AqaobL/j3FTV9vhf4MfQ4XuMlmEI5rF1fxPp0uhSSi+tDFITCj+au135+UHPJ9qyPjV4D1/4heF/sGgeIz4amckS3C2wnLoQQVAJGPrXzhd/8E8/FEfg3wlpUPi6FF8Na+NalCRsFvMcEEH+Ijn6mugR6h/wTpXZ+y1o4/6eLn/0c9e5bq+Ff2NPjXB+y74LvdI1/SPijfakbyfzbZtJkmtbX94xHkkL909etd9ov/BSqK5+Jup2tx4E8cxeG47OF7G9/sebdcTlnEiYx/CAn50AfVtFfPg/4KIeHiP+RR+IP/ghm/wpT/wUQ8PD/mUviD/4IZv8KAPoE4pGTdXyv4//AOClEela14eXR/Anjq7s7i/CatI+izL9jtvLcmQcdd4QfjXRJ/wUZ8OMgI8JfEEg9D/YE/P6UAd5+0/4p0nQPh69trstxa6Zqri1kuIIw7oSflA7gk8Bu1b3wf8AB9v4J+Hlhpls80trFHuiabBl2tyA57n3714zrH7eng/xDGqX3gbx1dIudqy+HZmAzweq1zPxz/4KRyeFfg1rcvgP4feNtT8VWtkx0jT59FmiiuJQPlQnHAoA9z+KXwevvHviXTL221RtOg03DSQpn/Tuc7JMEfL345zXW634s0/wjaW51G5gs0c7FZzhcgdM14B4J/4KN2Oo+EdNm1XwL8QLfVZLWNr2CPQ5mWGYqN6g45AbIqh8S/2uPCHxV0mGy1XwT8SZLWOQTGJdDmAcjpnjsefqKAPpqw1GLWLKOeE7oZlDIwGMg1zSeGvDXwrvZtWxHpsl85W4uXfidmJI3nufQnp0r50H/BTzQPBWtW3h3/hCfiI6QrHGtzNo0w4K/wAXHXjiuZ+Hn7fL/HLwDrunfFD4aeOdGkXW7mO0tLXSZpBd6ej/AOjysccF15I7UAfYPiPxXax+BrjVoUivrSKEzBW+7Ko9M/pXO/Bj4w6X8VfDw1i3t/7J+1XDQpazgJcFl4+deoPse2K8E8d/tw2lp8PodL8K+FPiAlzb7UiNz4fmaJUHZhjkVj+Bv2mNA0nxtbeKbjw98Sf7WMKw3ER8PTeU+FwTgD72f4uuKAPf9F8MeL/FvirXrPX5yPCV8kkNnHGVWdVJG7zD3zyFx0Gc12ngP4dWHwx8Nx6VpCvDp9sD5MLNkRD0HtXxp8Q/+CmXj6L9o+HT/D/w18YT/D99IDy6i+izefHeGUArsx0CZP1r2ez/AOChWhfY0V/CPxCZgoDE6BPye/agD0n4cfGn/hYHjPVdGGny2jaSDvmdspcHdgGPj5lx1PY8Vy/7Veo6p4R/szX4tUl03R7CQLqCoxP2pCw+Tb2/3hzXOQ/t8eF7Ncw+CvHsTBSAV8PTDA6ntXlN9/wUhvPFPiOwtLr4ZeLbvT4L9FnebRJsPb5O6dQV7cDB9aAPqvwH4I0OVo/E1lZSQX2qx+dJK75kkVuQH9cdvStrxB4s0/wn5cmo3UNnE+cSSttTI5xmvlvxx+3/ADaTqejweFfBPjdtImYR3X/EgmxbJn7ycc/StX4j/taeCvixocem654O+ItxZJIspiGhTqHZehPHY80Ae3eG/j1o3izxy3hy0aV9SiiFyy7cKIW+6+T6+nWudtX8Rad8abuTW5rL/hFXRvsscgTzweMlyeqZ6Ad+teOeNP2vvDugeANUl8O+CPHcniSO1c2M0mhTLJLNtwoLY9hXF+Ef2l3+JvgfQZviDoXxDi8RaeI55Us9Bm8lZcAlemSByCD3oA+8oWV4AU+6RkfSvH9U/aR1fw14j1mDUPDsv9naQzCO6jLf8TEbsbYlx95R1B6k8Vzdr/wUL8P21skZ8I/ENtihc/2BNz+lMuP+CgXhe4Ueb4L8fsAdw3+H5sA+vSgD2z4beNf+FgeE7bVPs72i3QLLE5+dB6N6H1Fcj4g+CV3rHxX/AOEi/tN4bUDY1grMIpRtx5h5++O2OK8g+HP/AAUht5rvWYdW8AeOdPiiv3TTvK0OY/aYMA+YRjrnNdQ3/BQ/QM/8ib8Q/wDwQTf4UAb37O+rf8Vxr+nweGjoFlasVSUFvL1Vg3+vQH64JPJPtXs1fO8f/BQvw8hGPBnxDGPTw/N/hXLa1/wUq+y/FLT4IfBHjhvDDWrm7ujok3mRz5GxMY7jNAH1jSHpXz0P+CiugY48G/EU/wDcAm/wo/4eKaCf+ZM+Iv8A4IJv8KAPoFvu1Sm+/XlPw2/bT0j4m+MLXRrbwv40sZrskLNe6RLDCn+8xGBXq0v3z9a8HPNom9HcbXh3/BVT/lFT+0p/2SrxT/6abqvca8O/4Kqf8oqf2lP+yVeKf/TTdVy5L/Hfp+qLrfCfxEUUUV9QcoUUUUAFFFFAH9i3/Btb/wAoQ/gL/wBg7Uf/AE63tfak3+tb6mvir/g2qUr/AMEQvgNli3/Ev1E5P/YWveK+1Zv9a31NeHnnwR9Tehuxp5FS2XyvUXSpLX/XivIwH8eJpVLydDSjpSJwKdX2ZyCYrM8RaM99p8xt1gN2Iz5JmTKbscZ74zWpRQB8lXPwK+Nl14y8W6jqGo6FJLqukPaacLCSSC3tJCCFxG27BB53Zya9Z/Y7+FHiX4b/ALPWgaN45uLfUvE1nGy3dyG83zCWJHzEc8Yr1sjNKOBQBR/sC3/54wf9+xXz9+0f8Ifiz448a6U3h+88O2vhyw1BJvJg8y3upEGP9Y+SGAwflAGc19H0hGRQB4H+zl8HvH/hn40ePdW8Y3VleaJrTwvpEKPv+yhQQU24AA9++a9ufQLYji3t/wDv2KvAYFLQB5N8ePAPjvxNa3Nj4Qn8O6bZXenzRSTTwN9rjmI+QxsDtA7ZIPWvNPhx8AfjBoXiz4cm61fRo/DugLJ/bttK73FxqBcED95xnb2yK+ozyKUDFAFE6DbEf6iH/vgVzfxQ8KaxdeFnXwxBoH9q71MZ1O3MkAGeeFIOcdOa7KigD408Ufs1fGdLL4iql3peonxDJB/ZNtb3r2UdqAcu6kAlOMDA67cnrX1H8PvBJ0bwLpFpqCpNfW1nFFcSSYdncKAxLYGTnviumZMnP9KVRigCgfDVqf8AlhB/37FeT/tjfB7xL8RvhE2m+C5YbTUjco8qrKbZp4xn5RKoyuDhuOu3HevaKayb6AOK+HNlb+DvA+gaP4ivdOuNfhs4Ybl32h7iXaAWAPJyQa63+xLM/wDLrb/9+xXlPxh/ZnPxE+N3hjx5Hq0ttd+D0c21kIQ0N0WBz5nPP+z/AHTzW3+yx4+8SfEr4M6dq3i2wj03XZ5rhLi3jjZFQJM6qQG5wVAP40Ac7+2j8HPEvxQ+EB07wTLDY6qt1HK4WU2xnjGfl8xRlcNtb32471w37N3wK+JHh3493+r+MXjm0j+xYLKNk1AzR3FwoXe/klQE5B5B5zX0+VyaFXaKAMtfDFvn/UQf9+xVPxP4QN94evoLD7Pa3s0DpbzGIHypCpCtj2ODXQ0jLuFAHw/YfsqftC23w7t9Is/Emk2Ui+JrTUriW4upLiWWzjZTNCj4BUSEM2OQAdtfasOiWoiXda227HP7sVbUbRS0AVTotpj/AI9bf/v2K+aPiX8A/ipffFL4h6joep2qWOu6P9k0QtcbVsZSoGfK24BU7ju6nd7V9Q0hGTQB5l+zF8Mtb8F/A3w7pfjB7e88QWVosV3KjeZvcZ5LEZP1rvv+EZtP+eKf98itAcCigDxH9p/4L+LfG+v+DLjwjeRWtnpOo/aNStzKYfOXja2QPmAww2Hg7vasX9kH4EfEH4b/ABL+JN/431K31LRvEGqG70O2Epm+xREsdhyOOCBxxxX0P3oIyKAKf9h2v/PrB/3wKP7Ctf8An2g/74FXRwKKAM+4hW1Xaiqq9gowBUQORU+p/equnSvjcw/3iR2U9h1FFFcJoFFFFABQKKOtMT2Ltm37oVPVe0/1QqxX3GG/hR9DgYUmKWitwOF+L3hDxh4q+zQ+HNfs9GtGV0vVktPNklVhgbGyNhHrXzJ/w79+Isuj/DW2/wCErtrY+D/ED6pfmOWU/bIiwyBlup27jnu57V9q0UARJbbUAJzxWR480jV9T8K3UGgX8Gmaq64guZ4PPSM+6E81uUUAfHfxE/Yl+K/ibX/iRqEPjqFp/GOiw6dbbQ8SQyDbvbYDhR8pAx/fNfR/7P8A4F1X4e/Bnw7omu3MF/q+mWSW91cRKQkrqMEjNdrRQBDNbZjOwKG7EjpXy18U/wBlD4t+N/jToHiT/hM9KuIdHuxNAi2z232KNZA+0KrYcuo2MW7E19V0UAeMfsf/AAK8Y/BKx8W/8Jl4pXxVeeIden1WCZYzGLWKRUxCASeFKnGK9mxS4ooA+f8A9sb9nXx78d9OnstC1/R7XRH8qV9MuLQhruROzzqQwU+g9KwP2b/2VfHnw6+O1n4g8S6jp17Y6f4bg0ZZoLiczXEiAAs6MxTHHYZr6fooAgFpkfeb86DZ/wC03/fVT0UAeO+H/gtr/h39qnXfG1zqyy6BfacsEVuztuhIxlcZ27eC2cZya9N8OeMdK8VpJ/Zt/a33knEnkSB9h98VoXlv9rtpI843qVzjOMivm2y+COvfslanoVn4CmuNV07xV4nM+vfarcSPbxSBmdlZcbRux14FAH0oV3Dpz9K+aPil+yv461r4k+P9b0rVLG5g8UaT9hs7e7mmRYCVAKnYwwoILAjB5r6YU4WnUAeefs0fCy/+FHwP8PeH9WeOTUNNtRFOYpWkjDdwpbnb6Zru/wCz1qxRQB4p+058AfEfxX8UeC7/AELVY7RPDl81zPDK7KsuQMMNpGSuOAePmNT/ALL/AMEfGvwt1XxjeeMfFSeJW8Saob+zjSExrp0ZXHlDk5A4r2SigCNYMLXD/tJfDTVPiz8EvEHh7RNT/sjVNUtjDBd8/ujkdcHOD0/Gu8ooA+VvhL+yD8RvBPx+8E6/qfiq21HQfDmhf2XdQPvaSeTH3hk+uOTzgV9SGI54xUtFAEUkBeJgDtJGAR2r4a+JH/BPL4veJfDOuaXaePbdo9V8Rrq6SyPKskcQOdow3B6dPSvuqigDO8K6VNo/hqwtLmb7RcW1ukUkv/PRgoBP41eZMCn0jDIoAicfIapyn56uv92qU3368HO9om9LcbXh3/BVT/lFT+0p/wBkq8U/+mm6r3GvDv8Agqp/yip/aU/7JV4p/wDTTdVy5L/Hfp+qLrfCfxEUUUV9QcoUUUUAFFFFAH9i3/Btb/yhD+Av/YO1H/063tfak3+tb6mviv8A4Nrf+UIfwF/7B2o/+nW9r7Um/wBa31NeHnnwR9TehuxtKjmNsjrSUV87GTi+aO50NJ7ky37j0pf7Qf0FQUV0/XsR/OyfZx7E/wDaD+go/tB/QVBRS+u4j+dh7OPYn/tB/QUf2g/oKgoo+u4j+dh7OPYn/tB/QUf2g/oKgoo+u4j+dh7OPYn/ALQf0FH9oP6CoKKPruI/nYezj2J/7Qf0FJ9ueoaKPruI/nYezj2Jvtz0fbnqGil9dr/zsPZx7Ewv39qX+0H9BUFFP67iP52Hs49ib7c9H256hoo+u4j+dh7OPYm+2tnoKQXhXoAPpUVFH13EfzsPZxJvtz0fbnqGij65X/nYezj2Jvtz0fbnqGij65X/AJ2Hs49ib7c9H256hoo+uV/52Hs49ib7c9H256hoo+uV/wCdh7OPYm+3PR9ueoaKPrlf+dh7OPYm+3PR9ueoaKPrlf8AnYezj2Jvtz0fbnqGij65X/nYezj2FmkM7800DFLRXPKcpO8tykrbBRRRUjCiiigAooooAljutgwKf9tNV6K7IY+vBWTM/ZxLH200fbTVeitP7UxPcPZxLH200fbjVeij+1MT3D2cSx9tNH201Xoo/tTE9w9nEsfbTR9tNV6KP7UxPcPZxLH200fbj61Xoo/tTE9w9nEsfbTR9uPrVeij+1MT3D2cSx9tNH201Xopf2riO4eziWPtpo+2mq9FP+1MT3D2cSx9tNJ9rzUFFH9qYjuHs4k/2yl+2mq9FP8AtTEdw9mix9tNH201Xopf2lX7h7NFj7afWk+2VBRT/tPEdw9mif7ZR9sNQUUf2piO4ezRP9so+2VBRR/amI7h7NE/2yj7Yagoo/tTEdw9mif7ZR9sNQUUf2piO4ezRObvIqF23NSUVzV8VVrW9o9ilFLYK8O/4Kqf8oqf2lP+yVeKf/TTdV7jXh3/AAVU/wCUVP7Sn/ZKvFP/AKaLqvQyX+O/T9UZ1vhP4iKKKK+oOUKKKKACiiigD+xb/g2t/wCUIfwF/wCwdqP/AKdb2vtSb/Wt9TXxX/wbW/8AKEP4C/8AYO1H/wBOt7X2pN/rW+prw88+CPqb0N2Nooor5s6QooooAKKKKACiiigAooooAKyPHXjew+HHhS91rVHmj0/T4zLO8UDzuqjrhEBZvwBrXpG5U1UbX1EfNvg//grZ8CfiHqWp2egeLbzW7rRX8vUIbDQ7+4exb0lCQkoeP4sV6n8Bv2qPh9+03Y3k/gfxVpevnTX8u9ggkxcWT/3ZYmw6H2ZRXwv/AMEj7iHTP+Ckn7aRkeK3h/4SWxyWIVeYPU1vWvhEal/wXr0jX/hpFbLo1t4Mmg8fXNmCLeeYsfsyOV+Qyjr64r0amHpKXKZKTtc+9/F/jTR/h/oUmp63qdjpOnw/fuLuZYo1/FiBXl1/+338KdG1gWupeKF0lGYIt5qFlcWli7HoBcyIsJznjDV4L+yz4/X/AIKHftx/FrXtZ2X3gf4Ja6PCfh7S2+a3OoRxLJcXjjoz5kCrn7oHqa+wfH/w30T4ieCL7w/rOmWeo6RqMDW09rNCrxujDBGCMdK5qkIxdik2a+n38WqWUVxbyxzQTqHjkjYMrqeQQRwRWH4k+Keg+EfGOhaBqGqWdpq3iV5Y9MtpXxJetEm9wg7kLzSfCf4c2Hwh+G2j+GdMM50/RLVLS3859z7FGBk9+K+Sf+CuHw6l8V/ByL4p+G7mFPHPwO1aHxHoiiUb5I4Ti8h25yRJCzqR32is4wTfKFz7YzxS1yH7Pnxg0z9oL4KeGfGmkTJNp/iLT4r2Iqc43KCV/A5H4V2DjBrOUXF2ZSdxKKKKkoKKKKACiiigAooooAKKKKACiiigAooooAKKKKACiiigAooooAKKKKACkpaSgBaKKKACiiigAooooAKKKKAEpaKKAEZtoryz9pz9s/4d/sceHINY+I+vf8I3pM7bRey2k8tuhyAN7ojKhJIA3EZzxXqUn3K+EP8Ag4+Al/4JIfEgHtJYEf8AgZDWtGHPUUO5MnZXPr/4J/Hjw3+0L4Lj8Q+Fbu4vtImOIp5bOa180YB3KJVUspB4IGD615t40/4KX/B74d/E1vBuseIr+18TZbZp40S+kmmC9WQLCd6j1XI96u/s7/FvT/EHww8OeF9B1KwvfEGk6Bp5vbYShjYBrdCpdRyMjkCvSPCPwxsPDeqyarJGl5rVyNs19IgMzL/cB6hR6DiqdPlepN2eWfGv/gpf8F/2dfEFlpnjTxa/h681MxCzW70u7UXbSKGRI28vDsQR8oJOeMZqey/4KN/B5/FunaLf+Lk0C+1dvLsV1uxudKW7c9ER7iNFZj2AOa+XP+DkKGNvgT8F32LvX4oaMFbHK/vRXtH/AAVrg8GeJ/2APHGm+Ik06/vZtM8vSoCVe5+3HHkeUB8wffjGK7fq9NQjLuTzNn1YjCSESKQ6EbgynIIrznx5+1j4D+Hdxew3utfabjTWC3kGm2s2ozWhPIEiQK7J/wACAr4w+Kv7RfxD/Zr/AOCdHwB8AX1+bH4pfFC407wt9rZj51ksmPMk55LrHx7GvuT4LfBnQvgP8P7Hw7oFjFaWtrH+9kAzJdSnl5ZG6u7MSSTySTXNOnCOpSbIvhD+0Z4L+PUNy3hHxDp2syWOBd28UmLmyJ6CWI4eM+zAGuxvb+LTbOSe4cRQwoXd26KoGSfyriNK/Z+8OeH/AI6XHxBsLNLPX7/SzpN28ICJdReYkilwPvMpTAPYMfWt74hta3mgtYXckSw6nm2k8xwqlGHzcn2zWNo9B6j/AIefEjRPix4Psdf8O6la6to+pJ5ltdW77klGSDg/UH8q3K+F/wDglxqsP7NP7RvxZ/ZunvI5NP8ADl4fFfg4eYG3aVeOWeJT3EUxI46bhX3Sy4oqUnCWoKVxKKKKyLCiiigAooooAKKKKACiiigAooooAKKKKACvDv8Agqp/yip/aU/7JV4p/wDTTdV7jXh3/BVT/lFT+0p/2SrxT/6abqvYyX+O/T9UY1vhP4iKKKK+oOUKKKKACiiigD+xX/g2qUr/AMEQvgNli3/Ev1E5P/YWveK+1Zv9a31NfFf/AAbW/wDKEP4C/wDYO1H/ANOt7X2pN/rW+prw88+CPqb0N2Nooor5s6QooooAKKKKACiiigAooooAKa7BV5p1U9e0SDxJo1zYXO/yLuNopNjlG2kYOGHIPuKa3Efmh/wTD+HmjfFD/gob+2rpWt2y3tjJ4msHMXmFckQ8cqQa/Rb4c/C3QfhfZSWug6TZaXFM26UwRhWmb1Y9SfrXlfwa/wCCa/wj+APxFvPFfhTw9caVr2ozC4vbpNQnLXrgYDSgth/xr3dT8xrsxFZTleJklY+GP2Bfh3J+w7+3R8efAeswSWOifFDxF/wnPhrUZBi2vTPEiXFuG6eajp93qQQRX274m8VaX4T0C51TU7+00/TrKNpp7m4lEccSAZLFjwBiq3i7wBo/jyw+z6vp9tfxA7lEqA7D6g9Qa8x1z9gX4Z+K7iZtY0e61iC4bdJaX1/PPat/2yZiuPwrNz5neQ7HWaH8c9G8U/CMeL7KYf2XdwmW0kkIX7QCcIy57Nxj61xt/wDsUfDv4gadNPrnh9L291SIteyPcyjzGcfNkBsd8fhWj8UP2H/h58X1s49Y0u8+zafDHb29rbX81tbwpH9wCNGC8YHbtXbeBfhXpXw28Ex+H9KW5TTYldVE1w8smGJz87Et39alO2qGfHX/AASO1e6/Z++JHxU/Z11WZgnw+1VtR8OBzy+l3J3oq+oRiRX3Q5ya8L8Nf8E5PhV4V+MH/Ce2OjX8fi3aEbUTqdw0siA5CMS3K+x4r3Mjbx6VVdxk+ZBEKKKK5jQKKKKACiiigAooooAKKKKACiiigAooooAKKKKACiiigAooooAKKKKACiiigAooooAKKKKACiiigAooooAKKKKAEIzXwf8A8HJLLF/wSQ+JHIB8yw/9LIq+8l+9XlX7T/7Evw5/bI0aDTfiHoja/p0AwLV7mSOF/mDDcikBsEAjNb4ZqNVSfQiXY+dfEv7B9/43+Efgj4rfCPVk8IfF608O2DfaVz9i8QIsCfuLqMcEEcBuortf2Lf+Clmn/Gjxpc/DH4j6b/wrv4y6Gn+m6FeyBY9QUcefaSHiVG64HIzX0H8Jfg9ofwL8C2nhrw7BNa6RYLsghknebyl6BQWJOB2FeOfFT/glT8EvjP8AEyPxj4l8LSan4lgkMkF/JqE/nW5Jz8hDfKM9hXX7WMm1Mg+cv+DkCVD8A/gx868/FDRyOf8AprX2hYfs2eB5vES+IW8PafdapcFJ2nnBlxIBwwDEgEewrhPix/wTE+Dvxx0nRLHxX4dutbtfDpRtPjudSncW7KSVcfP98E/e617H8N/hxpnwp8I22h6Ok6afZ58pZp3mcZOTlmJJ/Os6+Jg6caceg0tdT5P/AOCwP7O+p/EHwj8MviLoOlTaxq3wc8WWniNrO3XM01opxOEHdgpzj/Zr6v8Ah98RdJ+KHg6w1vR7uG7sb+FZo2RugIzgjsR3B5FbroJVIYAgjBBHWvNPH/7Ivgb4i/8AH5pk1pmb7Qx0+6ks979NzeWwzXKpuyiyrG23xu8PS/FeLwXbX8F54gNo9/cW0MiubOBSBvkwflyxAGepNYvjTwN4e/aB8TXOma1bpqWn6JgeWJmULM3JztIOQPWoPDX7GXw78G6Pq9ppWgx2D6/CsGoXcMrreXaDkBps7z+dRfCb9i3wJ8EfFE2seHbTU7W9uXMkzSancTLMx6llZyCacbCZ8i/8FEPgRov7CPxb+Ev7RXgjTzpUPhLXI9A8XKkrsLrR74iMs+4niOURt+NfoVpWrQa5ptvd20qTQXMayxuhyGVgCDn6GvNf2jf2OPAf7WGkf2f470ufWdOMYie0N5LHBKoYMNyKwDYIB5Hauo+D3wc0P4F+DINA8PQz2+mW3+qjluHnKDoAGck4AHArWrU5oruC3OqooorlNAooooAKKKKACiiigAooooAKKKKACiiigArw7/gqp/yip/aU/wCyVeKf/TTdV7jXh3/BVT/lFT+0p/2SrxT/AOmm6r2Ml/jv0/VGNb4T+IiiiivqDlCiiigAooooA/sW/wCDa3/lCH8Bf+wdqP8A6db2vtSb/Wt9TXxX/wAG1v8AyhD+Av8A2DtR/wDTre19qTf61vqa8PPPgj6m9DdjaKKK+bOkKKKKACiiigAooooAKKKKACiiigApAuDS0UxC7jRuNJRRdhYXcaC2aSii7CwL8tBOaKKACiiikMKKKKACiiigAooooAKKKKACiiigAooooAKKKKACiiigAooooAKKKKACiiigAooooAKKKKACiiigAooooAKKKKAAHBpQ5FJRTTa2EKzbjSE5oop3YWCiiiosgCiiimMKKKKYgooooAKKKKQwooooAKKKKACiiigAooooAKKKKACiiigArw7/AIKqf8oqf2lP+yVeKf8A003Ve414d/wVU/5RU/tKf9kq8U/+mm6r2Ml/jv0/VGNb4T+IiiiivqDlCiiigAooooA/sW/4Nrf+UIfwF/7B2o/+nW9r7Um/1rfU18Vf8G1Slf8AgiF8BssW/wCJfqJyf+wte8V9uPYMzk5Xk5ryc2w9SrGKpq5rSkk9StRVj+zn/vLR/Zzeq14f9nYn+Q6PaR7leirH9nN6rR/Zzf3lo/s7E/yB7SPcr0VY/s5vVaP7Ob1Wj+zsT/IHtI9yvRVj+zm9Vo/s5vVaP7OxP8ge0j3K9FWP7Ob+8tH9nN/eWj+zsT/IHtI9yvRVj+zm9Vo/s5vVaP7OxP8AIHtI9yvRVj+zm/vLR/Zzeq0f2dif5A9pHuV6Ksf2c3qtH9nN6rR/Z2J/kD2ke5Xoqx/Zzf3lo/s5/VaP7OxP8ge0j3K9FWP7Ob1Wj+zm9Vo/s7E/yB7SPcr0VY/s5v7y0f2c3qtH9nYn+QPaR7leirH9nN6rR/Zzeq0f2dif5A9pHuV6Ksf2c3qtH9nP/eWj+zsT/IHtI9yvRVj+zm9Vo/s5vVaP7OxP8ge0j3K9FWP7Ob1Wj+zm/vLR/Z2J/kD2ke5Xoqx/Zzeq0f2c3qtH9nYn+QPaR7leirH9nN6rR/Zzf3lo/s7E/wAge0j3K9FWP7Of1Wj+zm9Vo/s7E/yB7SPcr0VY/s5vVaP7Ob+8tH9nYn+QPaR7leirH9nN6rR/Zzeq0f2dif5A9pHuV6Ksf2c3qtH9nN6rR/Z2J/kD2ke5Xoqx/Zz/AN5aP7Ob1Wj+zsT/ACB7SPcr0VY/s5vVaP7Ob+8tH9nYn+QPaR7leirH9nN6rR/Zzeq0f2dif5A9pHuV6Ksf2c3qtH9nN6rR/Z2J/kD2ke5Xoqx/Zzf3lo/s5v7y0f2dif5A9pHuV6Ksf2c3qtH9nN6rR/Z2J/kD2ke5Xoqx/Zzf3lo/s5vVaP7OxP8AIHtI9yvRVj+zm9Vo/s5vVaP7OxP8ge0j3K9FWP7Ob+8tH9nP6rR/Z2J/kD2ke5Xoqx/Zzeq0f2c3qtH9nYn+QPaR7leirH9nN/eWj+zm9Vo/s7E/yB7SPcr0VY/s5vVaP7Ob1Wj+zsT/ACB7SPcr0VY/s5vVaP7Of+8tH9nYn+QPaR7leirH9nN6rR/Zzeq0f2dif5A9pHuV6Ksf2c395aP7Ob1Wj+zsT/IHtI9yvRVj+zm9Vo/s5vVaP7OxP8ge0j3K9FWP7Ob1Wj+zm/vLR/Z2J/kD2ke5Xoqx/Zzf3lo/s5vVaP7OxP8AIHtI9yvRVj+zm9Vo/s5v7y0f2dif5A9pHuV68O/4Kqf8oqf2lP8AslXin/003Ve8/wBnN6rXhH/BVqIw/wDBK39pVT/0SrxR/wCmi6r0sqwlalWcqkbK3+RlVmnHQ/iGooor6A5wooooAKKKKAP0p/Yg/wCDpb9oH9gf9lnwl8IvB/g/4Oal4b8GQzQWVzrOlalNfSrLcS3DeY8V/GhO+VgNqLwB1PJ9W/4jVv2pv+hB+AH/AII9X/8AlnX5AUUAfr//AMRq37U3/Qg/AD/wR6v/APLOj/iNW/am/wChB+AH/gj1f/5Z1+QFFAH6/wD/ABGrftTf9CD8AP8AwR6v/wDLOj/iNW/am/6EH4Af+CPV/wD5Z1+QFFAH6/8A/Eat+1N/0IPwA/8ABHq//wAs6P8AiNW/am/6EH4Af+CPV/8A5Z1+QFFAH6//APEat+1N/wBCD8AP/BHq/wD8s6P+I1b9qb/oQfgB/wCCPV//AJZ1+QFFAH6//wDEat+1N/0IPwA/8Eer/wDyzo/4jVv2pv8AoQfgB/4I9X/+WdfkBRQB+v8A/wARq37U3/Qg/AD/AMEer/8Ayzo/4jVv2pv+hB+AH/gj1f8A+WdfkBRQB+v/APxGrftTf9CD8AP/AAR6v/8ALOj/AIjVv2pv+hB+AH/gj1f/AOWdfkBRQB+v/wDxGrftTf8AQg/AD/wR6v8A/LOj/iNW/am/6EH4Af8Agj1f/wCWdfkBRQB+v/8AxGrftTf9CD8AP/BHq/8A8s6P+I1b9qb/AKEH4Af+CPV//lnX5AUUAfr/AP8AEat+1N/0IPwA/wDBHq//AMs6P+I1b9qb/oQfgB/4I9X/APlnX5AUUAfr/wD8Rq37U3/Qg/AD/wAEer//ACzo/wCI1b9qb/oQfgB/4I9X/wDlnX5AUUAfr/8A8Rq37U3/AEIPwA/8Eer/APyzo/4jVv2pv+hB+AH/AII9X/8AlnX5AUUAfr//AMRq37U3/Qg/AD/wR6v/APLOj/iNW/am/wChB+AH/gj1f/5Z1+QFFAH6/wD/ABGrftTf9CD8AP8AwR6v/wDLOj/iNW/am/6EH4Af+CPV/wD5Z1+QFFAH6/8A/Eat+1N/0IPwA/8ABHq//wAs6P8AiNW/am/6EH4Af+CPV/8A5Z1+QFFAH6//APEat+1N/wBCD8AP/BHq/wD8s6P+I1b9qb/oQfgB/wCCPV//AJZ1+QFFAH6//wDEat+1N/0IPwA/8Eer/wDyzo/4jVv2pv8AoQfgB/4I9X/+WdfkBRQB+v8A/wARq37U3/Qg/AD/AMEer/8Ayzo/4jVv2pv+hB+AH/gj1f8A+WdfkBRQB+v/APxGrftTf9CD8AP/AAR6v/8ALOj/AIjVv2pv+hB+AH/gj1f/AOWdfkBRQB+v/wDxGrftTf8AQg/AD/wR6v8A/LOj/iNW/am/6EH4Af8Agj1f/wCWdfkBRQB+v/8AxGrftTf9CD8AP/BHq/8A8s6P+I1b9qb/AKEH4Af+CPV//lnX5AUUAfr/AP8AEat+1N/0IPwA/wDBHq//AMs6P+I1b9qb/oQfgB/4I9X/APlnX5AUUAfr/wD8Rq37U3/Qg/AD/wAEer//ACzo/wCI1b9qb/oQfgB/4I9X/wDlnX5AUUAfr/8A8Rq37U3/AEIPwA/8Eer/APyzo/4jVv2pv+hB+AH/AII9X/8AlnX5AUUAfr//AMRq37U3/Qg/AD/wR6v/APLOj/iNW/am/wChB+AH/gj1f/5Z1+QFFAH6/wD/ABGrftTf9CD8AP8AwR6v/wDLOj/iNW/am/6EH4Af+CPV/wD5Z1+QFFAH6/8A/Eat+1N/0IPwA/8ABHq//wAs6P8AiNW/am/6EH4Af+CPV/8A5Z1+QFFAH6//APEat+1N/wBCD8AP/BHq/wD8s6P+I1b9qb/oQfgB/wCCPV//AJZ1+QFFAH6//wDEat+1N/0IPwA/8Eer/wDyzo/4jVv2pv8AoQfgB/4I9X/+WdfkBRQB+v8A/wARq37U3/Qg/AD/AMEer/8Ayzo/4jVv2pv+hB+AH/gj1f8A+WdfkBRQB+v/APxGrftTf9CD8AP/AAR6v/8ALOj/AIjVv2pv+hB+AH/gj1f/AOWdfkBRQB+v/wDxGrftTf8AQg/AD/wR6v8A/LOj/iNW/am/6EH4Af8Agj1f/wCWdfkBRQB+v/8AxGrftTf9CD8AP/BHq/8A8s6P+I1b9qb/AKEH4Af+CPV//lnX5AUUAfr/AP8AEat+1N/0IPwA/wDBHq//AMs6P+I1b9qb/oQfgB/4I9X/APlnX5AUUAfr/wD8Rq37U3/Qg/AD/wAEer//ACzo/wCI1b9qb/oQfgB/4I9X/wDlnX5AUUAfr/8A8Rq37U3/AEIPwA/8Eer/APyzo/4jVv2pv+hB+AH/AII9X/8AlnX5AUUAfr//AMRq37U3/Qg/AD/wR6v/APLOj/iNW/am/wChB+AH/gj1f/5Z1+QFFAH6/wD/ABGrftTf9CD8AP8AwR6v/wDLOj/iNW/am/6EH4Af+CPV/wD5Z1+QFFAH6/8A/Eat+1N/0IPwA/8ABHq//wAs6P8AiNW/am/6EH4Af+CPV/8A5Z1+QFFAH6//APEat+1N/wBCD8AP/BHq/wD8s6P+I1b9qb/oQfgB/wCCPV//AJZ1+QFFAH6//wDEat+1N/0IPwA/8Eer/wDyzrj/ANoX/g7r/aS/aU+AXjj4da74J+CFponj7w/f+G9QnsNH1RLqG3vLaS3leJn1F0EgSRipZGAIGVI4r8sKKACiiigAooooAKKKKACiiigAooooAKKKKACiiigAooooAKKKKACiiigAooooAKKKKACiiigAooooAKKKKACiiigAooooAKKKKACiiigAooooAKKKKACiiigAooooAKKKKACiiigAooooAKKKKACiiigAooooAKKKKACiiigAooooAKKKKACiiigAooooAKKKKACiiigAooooAKKKKACiiigAooooAKKKKACiiigAooooAKKKKACiiigD/9k=)"
      ],
      "metadata": {
        "id": "88V19ZsdMOKK"
      }
    },
    {
      "cell_type": "markdown",
      "source": [
        "Los métodos kernel buscan una dimensión más alta, mientras que SVD busca una dimensión más baja.\n",
        "\n",
        "PCA (como técnica de reducción de la dimensionalidad) intenta encontrar un subespacio lineal de baja dimensión al que se limitan los datos.\n",
        "\n",
        "El Kernel PCA puede encontrar este múltiple no lineal y descubrir que los datos son, de hecho, casi unidimensionales.\n",
        "\n",
        "Los datos se mapean en un espacio de mayor dimensión, pero luego resultan estar en un subespacio de menor dimensión del mismo. Así que se aumenta la dimensionalidad para poder reducirla."
      ],
      "metadata": {
        "id": "MfTzud6-J5mf"
      }
    },
    {
      "cell_type": "markdown",
      "source": [
        "Vamos a aplicar KPCA al mismo conjunto de datos\n"
      ],
      "metadata": {
        "id": "A0X8WubELH6t"
      }
    },
    {
      "cell_type": "code",
      "source": [
        "#Importamos KernelPCA\n",
        "\n",
        "#Seleccionamos 2 componentes y el kernel gaussiano\n",
        "\n",
        "#Calculamos las componentes principales y se proyectan los datos\n"
      ],
      "metadata": {
        "id": "JurOQlXHLZxY"
      },
      "execution_count": null,
      "outputs": []
    },
    {
      "cell_type": "markdown",
      "source": [
        "Vamos aplicarle el mismo modelo regresión logistica, a los datos reducidos con kpca.\n"
      ],
      "metadata": {
        "id": "gU89EnTaLids"
      }
    },
    {
      "cell_type": "code",
      "source": [
        "#Entrenamos el modelo\n"
      ],
      "metadata": {
        "id": "ZI3Wf4sPLlpx"
      },
      "execution_count": null,
      "outputs": []
    },
    {
      "cell_type": "code",
      "source": [
        "#Evaluar el desempeño - Modelo con KPCA\n",
        "#Matriz de confusión\n",
        "cmKPCA = confusion_matrix(y_test, predictions_kpca)\n",
        "disp = ConfusionMatrixDisplay(confusion_matrix=cmKPCA)\n",
        "disp.plot()\n",
        "# Métricas de desempeño\n",
        "print(classification_report(y_test,predictions_kpca))\n",
        "print(\"kappa: \" + str(cohen_kappa_score(y_test,predictions_kpca)))"
      ],
      "metadata": {
        "id": "Nsj2Fqt-LoJl"
      },
      "execution_count": null,
      "outputs": []
    },
    {
      "cell_type": "code",
      "source": [
        "from matplotlib.colors import ListedColormap\n",
        "X_set, y_set = X_train_kpca, y_train\n",
        "X1, X2 = np.meshgrid(np.arange(start = X_set[:, 0].min() - 1, stop = X_set[:, 0].max() + 1, step = 0.01),\n",
        "                     np.arange(start = X_set[:, 1].min() - 1, stop = X_set[:, 1].max() + 1, step = 0.01))\n",
        "plt.contourf(X1, X2, model_kpca.predict(np.array([X1.ravel(), X2.ravel()]).T).reshape(X1.shape),\n",
        "             alpha = 0.75, cmap = ListedColormap(('red', 'green', 'blue')))\n",
        "plt.xlim(X1.min(), X1.max())\n",
        "plt.ylim(X2.min(), X2.max())\n",
        "for i, j in enumerate(np.unique(y_set)):\n",
        "    plt.scatter(X_set[y_set == j, 0], X_set[y_set == j, 1],\n",
        "                c = ListedColormap(('red', 'green', 'blue'))(i), label = j)\n",
        "plt.title('Logistic Regression (Training set)')\n",
        "plt.xlabel('PC1')\n",
        "plt.ylabel('PC2')\n",
        "plt.legend()\n",
        "plt.show()"
      ],
      "metadata": {
        "id": "l4DVlP7SLtQ2"
      },
      "execution_count": null,
      "outputs": []
    },
    {
      "cell_type": "code",
      "source": [
        "from matplotlib.colors import ListedColormap\n",
        "X_set, y_set = X_test_kpca, y_test\n",
        "X1, X2 = np.meshgrid(np.arange(start = X_set[:, 0].min() - 1, stop = X_set[:, 0].max() + 1, step = 0.01),\n",
        "                     np.arange(start = X_set[:, 1].min() - 1, stop = X_set[:, 1].max() + 1, step = 0.01))\n",
        "plt.contourf(X1, X2, model_kpca.predict(np.array([X1.ravel(), X2.ravel()]).T).reshape(X1.shape),\n",
        "             alpha = 0.75, cmap = ListedColormap(('red', 'green', 'blue')))\n",
        "plt.xlim(X1.min(), X1.max())\n",
        "plt.ylim(X2.min(), X2.max())\n",
        "for i, j in enumerate(np.unique(y_set)):\n",
        "    plt.scatter(X_set[y_set == j, 0], X_set[y_set == j, 1],\n",
        "                c = ListedColormap(('red', 'green', 'blue'))(i), label = j)\n",
        "plt.title('Logistic Regression (Test set)')\n",
        "plt.xlabel('PC1')\n",
        "plt.ylabel('PC2')\n",
        "plt.legend()\n",
        "plt.show()"
      ],
      "metadata": {
        "id": "pimW_LcvLxjG"
      },
      "execution_count": null,
      "outputs": []
    },
    {
      "cell_type": "markdown",
      "source": [
        "#  3. ISOMAP\n",
        "\n",
        "Isomap (Isometric Mapping) es un algoritmo de reducción de dimensionalidad no lineal que busca preservar la estructura geométrica intrínseca de los datos de alta dimensión en un espacio de menor dimensión. En esencia, trata de mantener las distancias geodésicas (las distancias a lo largo de la superficie de los datos) entre los puntos de datos en la representación de menor dimensión.\n",
        "\n",
        "**¿Cómo funciona Isomap?**\n",
        "1. Construcción de un grafo de vecindad:\n",
        "Se crea un grafo donde cada punto de datos es un nodo y las conexiones entre los nodos se basan en la distancia euclidiana (o una medida de vecindad definida por el usuario). Por lo general, se utiliza el método de los k vecinos más cercanos.\n",
        "2. Cálculo de distancias geodésicas:\n",
        "Se calcula la distancia más corta entre todos los pares de nodos en el grafo. Estas distancias aproximan las distancias geodésicas a lo largo de la variedad de datos.\n",
        "3. Escalamiento multidimensional (MDS):\n",
        "Se aplica MDS a la matriz de distancias geodésicas para encontrar una representación de menor dimensión que preserve estas distancias.\n",
        "\n",
        "**Ventajas de Isomap:**\n",
        "1. Manejo de variedades no lineales:\n",
        "Isomap es capaz de descubrir la estructura intrínseca de datos que se encuentran en una variedad no lineal, donde métodos como el Análisis de Componentes Principales (PCA) pueden fallar.\n",
        "2. Preservación de la estructura global:\n",
        "Al enfocarse en las distancias geodésicas, Isomap intenta preservar la estructura global de los datos en la representación de menor dimensión.\n",
        "3. Aplicaciones en visualización y exploración de datos:\n",
        "Isomap puede ayudar a visualizar datos de alta dimensión, haciéndolos más fáciles de entender e interpretar.\n",
        "4. Preprocesamiento para aprendizaje automático:\n",
        "Se puede utilizar como un paso de preprocesamiento antes de aplicar otros algoritmos de aprendizaje automático.\n",
        "\n",
        "**Desventajas de Isomap:**\n",
        "1. Sensibilidad a los parámetros:\n",
        "El algoritmo es sensible a la elección del número de vecinos (k) en la construcción del grafo.\n",
        "2. Complejidad computacional:\n",
        "La construcción del grafo de vecindad y el cálculo de las distancias geodésicas pueden ser computacionalmente costosos, especialmente para conjuntos de datos grandes.\n",
        "3. Riesgo de ruptura del manifold:\n",
        "En algunos casos, si el grafo no captura adecuadamente la estructura del manifold, Isomap puede producir resultados erróneos.\n"
      ],
      "metadata": {
        "id": "dqa46Yvz8xaR"
      }
    },
    {
      "cell_type": "code",
      "source": [
        "#Importamos isomap\n",
        "\n",
        "#Calculamos las componentes principales y se proyectan los datos\n"
      ],
      "metadata": {
        "id": "ZilePl0x8wVh"
      },
      "execution_count": null,
      "outputs": []
    },
    {
      "cell_type": "code",
      "source": [
        "#Entrenamos el modelo\n"
      ],
      "metadata": {
        "id": "i-ai2FkD9kxA"
      },
      "execution_count": null,
      "outputs": []
    },
    {
      "cell_type": "code",
      "source": [
        "#Evaluar el desempeño - Modelo con isomap\n",
        "#Matriz de confusión\n",
        "cmISOMAP = confusion_matrix(y_test, predictions_isomap)\n",
        "disp = ConfusionMatrixDisplay(confusion_matrix=cmISOMAP)\n",
        "disp.plot()\n",
        "# Métricas de desempeño\n",
        "print(classification_report(y_test,predictions_isomap))\n",
        "print(\"kappa: \" + str(cohen_kappa_score(y_test,predictions_isomap)))"
      ],
      "metadata": {
        "id": "3rbGNrf99ugz"
      },
      "execution_count": null,
      "outputs": []
    },
    {
      "cell_type": "markdown",
      "source": [
        "# ¡Gran trabajo!"
      ],
      "metadata": {
        "id": "iW2cLRWrL2tD"
      }
    }
  ]
}